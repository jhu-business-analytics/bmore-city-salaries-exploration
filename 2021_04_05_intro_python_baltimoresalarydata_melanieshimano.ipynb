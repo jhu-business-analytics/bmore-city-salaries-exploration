{
  "nbformat": 4,
  "nbformat_minor": 0,
  "metadata": {
    "colab": {
      "name": "2021-04-05-intro-python-baltimoresalarydata-melanieshimano.ipynb",
      "provenance": [],
      "toc_visible": true,
      "authorship_tag": "ABX9TyP7z0vJy4oh5+B77aCUyaLz",
      "include_colab_link": true
    },
    "kernelspec": {
      "name": "python3",
      "display_name": "Python 3"
    },
    "language_info": {
      "name": "python"
    }
  },
  "cells": [
    {
      "cell_type": "markdown",
      "metadata": {
        "id": "view-in-github",
        "colab_type": "text"
      },
      "source": [
        "<a href=\"https://colab.research.google.com/github/melanieshimano/bmore-city-salaries-exploration/blob/main/2021_04_05_intro_python_baltimoresalarydata_melanieshimano.ipynb\" target=\"_parent\"><img src=\"https://colab.research.google.com/assets/colab-badge.svg\" alt=\"Open In Colab\"/></a>"
      ]
    },
    {
      "cell_type": "markdown",
      "metadata": {
        "id": "CzADGXSoUVgx"
      },
      "source": [
        "# Intro to Python with Baltimore City Salary Data\n"
      ]
    },
    {
      "cell_type": "markdown",
      "metadata": {
        "id": "7Ka7uUH8UlUx"
      },
      "source": [
        "This is a notebook to begin using Python for data analysis"
      ]
    },
    {
      "cell_type": "markdown",
      "metadata": {
        "id": "q9SXOCTeUqI5"
      },
      "source": [
        "## some general notes about python"
      ]
    },
    {
      "cell_type": "code",
      "metadata": {
        "colab": {
          "base_uri": "https://localhost:8080/",
          "height": 0
        },
        "id": "yQO82vJcT1hi",
        "outputId": "1b805242-84b8-4610-c2cc-447744b64209"
      },
      "source": [
        "#  my name is melanie\n",
        "print(\"melanie\") # this is some basic python code\n",
        "\n",
        "# this is a note\n",
        "# this is another note\n",
        "# here's a third note\n",
        "\n",
        "'''notes\n",
        "that\n",
        "are \n",
        "kept\n",
        "in \n",
        "paragraphs'''"
      ],
      "execution_count": 100,
      "outputs": [
        {
          "output_type": "stream",
          "text": [
            "melanie\n"
          ],
          "name": "stdout"
        },
        {
          "output_type": "execute_result",
          "data": {
            "application/vnd.google.colaboratory.intrinsic+json": {
              "type": "string"
            },
            "text/plain": [
              "'notes\\nthat\\nare \\nkept\\nin \\nparagraphs'"
            ]
          },
          "metadata": {
            "tags": []
          },
          "execution_count": 100
        }
      ]
    },
    {
      "cell_type": "markdown",
      "metadata": {
        "id": "jkNvVMUbWw5E"
      },
      "source": [
        "## import libraries"
      ]
    },
    {
      "cell_type": "code",
      "metadata": {
        "id": "qicIgLwHUUkG"
      },
      "source": [
        "# import libraries\n",
        "\n",
        "# data analysis\n",
        "import pandas as pd\n",
        "\n",
        "# data visualization\n",
        "import matplotlib.pyplot as plt\n",
        "import plotly.express as px\n",
        "\n",
        "# download files to our computer\n",
        "from google.colab import files "
      ],
      "execution_count": 101,
      "outputs": []
    },
    {
      "cell_type": "markdown",
      "metadata": {
        "id": "ph_79wL6YYe5"
      },
      "source": [
        "## import data"
      ]
    },
    {
      "cell_type": "markdown",
      "metadata": {
        "id": "yh2z6sbZYs6j"
      },
      "source": [
        "download data from [this github repository](https://github.com/jhu-business-analytics/bmore-city-salaries-exploration)"
      ]
    },
    {
      "cell_type": "code",
      "metadata": {
        "id": "M1JF44RcUUxk"
      },
      "source": [
        "# import csv of baltimore city salary data\n",
        "\n",
        "# save github csv link\n",
        "salary_data = \"https://raw.githubusercontent.com/jhu-business-analytics/bmore-city-salaries-exploration/main/Baltimore_Employee_Salaries.csv\"\n",
        "\n",
        "#define our initial dataframe\n",
        "df_salary = pd.read_csv(salary_data)\n"
      ],
      "execution_count": 102,
      "outputs": []
    },
    {
      "cell_type": "markdown",
      "metadata": {
        "id": "msI8jh8Na0qi"
      },
      "source": [
        "## look at our data"
      ]
    },
    {
      "cell_type": "code",
      "metadata": {
        "colab": {
          "base_uri": "https://localhost:8080/",
          "height": 204
        },
        "id": "XjMXer96au4k",
        "outputId": "25edc762-9ccf-42c3-9ac3-c500f590508a"
      },
      "source": [
        "# preview the first five rows\n",
        "df_salary.head()"
      ],
      "execution_count": 103,
      "outputs": [
        {
          "output_type": "execute_result",
          "data": {
            "text/html": [
              "<div>\n",
              "<style scoped>\n",
              "    .dataframe tbody tr th:only-of-type {\n",
              "        vertical-align: middle;\n",
              "    }\n",
              "\n",
              "    .dataframe tbody tr th {\n",
              "        vertical-align: top;\n",
              "    }\n",
              "\n",
              "    .dataframe thead th {\n",
              "        text-align: right;\n",
              "    }\n",
              "</style>\n",
              "<table border=\"1\" class=\"dataframe\">\n",
              "  <thead>\n",
              "    <tr style=\"text-align: right;\">\n",
              "      <th></th>\n",
              "      <th>ID</th>\n",
              "      <th>FirstName</th>\n",
              "      <th>MI</th>\n",
              "      <th>LastName</th>\n",
              "      <th>JobTitle</th>\n",
              "      <th>AgencyID</th>\n",
              "      <th>AgencyName</th>\n",
              "      <th>HireDate</th>\n",
              "      <th>AnnualSalary</th>\n",
              "      <th>GrossPay</th>\n",
              "      <th>FiscalYear</th>\n",
              "      <th>ObjectId</th>\n",
              "    </tr>\n",
              "  </thead>\n",
              "  <tbody>\n",
              "    <tr>\n",
              "      <th>0</th>\n",
              "      <td>201</td>\n",
              "      <td>Desiree</td>\n",
              "      <td>C</td>\n",
              "      <td>Alston</td>\n",
              "      <td>SCHOOL HEALTH AIDE (10 MONTHS)</td>\n",
              "      <td>A65105</td>\n",
              "      <td>HLTH-Health Department</td>\n",
              "      <td>2009/10/29 04:00:00+00</td>\n",
              "      <td>23395.0</td>\n",
              "      <td>20482.58</td>\n",
              "      <td>FY2011</td>\n",
              "      <td>1</td>\n",
              "    </tr>\n",
              "    <tr>\n",
              "      <th>1</th>\n",
              "      <td>101</td>\n",
              "      <td>Maude</td>\n",
              "      <td>E</td>\n",
              "      <td>Akins</td>\n",
              "      <td>DATA ENTRY OPERATOR II</td>\n",
              "      <td>A49300</td>\n",
              "      <td>TRANS-Highways</td>\n",
              "      <td>2002/11/25 05:00:00+00</td>\n",
              "      <td>31609.0</td>\n",
              "      <td>28525.11</td>\n",
              "      <td>FY2011</td>\n",
              "      <td>2</td>\n",
              "    </tr>\n",
              "    <tr>\n",
              "      <th>2</th>\n",
              "      <td>301</td>\n",
              "      <td>Shavonna</td>\n",
              "      <td>A</td>\n",
              "      <td>Anderson</td>\n",
              "      <td>EMERGENCY DISPATCHER</td>\n",
              "      <td>A99372</td>\n",
              "      <td>Police Department</td>\n",
              "      <td>2001/11/29 05:00:00+00</td>\n",
              "      <td>44331.0</td>\n",
              "      <td>44093.40</td>\n",
              "      <td>FY2011</td>\n",
              "      <td>3</td>\n",
              "    </tr>\n",
              "    <tr>\n",
              "      <th>3</th>\n",
              "      <td>51</td>\n",
              "      <td>Margaret</td>\n",
              "      <td>E</td>\n",
              "      <td>Adams</td>\n",
              "      <td>PROGRAM ASSISTANT I</td>\n",
              "      <td>A65200</td>\n",
              "      <td>HLTH-Health Department</td>\n",
              "      <td>2008/05/05 04:00:00+00</td>\n",
              "      <td>33841.0</td>\n",
              "      <td>30336.61</td>\n",
              "      <td>FY2011</td>\n",
              "      <td>4</td>\n",
              "    </tr>\n",
              "    <tr>\n",
              "      <th>4</th>\n",
              "      <td>1</td>\n",
              "      <td>Patricia</td>\n",
              "      <td>G</td>\n",
              "      <td>Aaron</td>\n",
              "      <td>Facilities/Office Services II</td>\n",
              "      <td>A03031</td>\n",
              "      <td>OED-Employment Dev</td>\n",
              "      <td>1979/10/24 04:00:00+00</td>\n",
              "      <td>50845.0</td>\n",
              "      <td>45505.94</td>\n",
              "      <td>FY2011</td>\n",
              "      <td>5</td>\n",
              "    </tr>\n",
              "  </tbody>\n",
              "</table>\n",
              "</div>"
            ],
            "text/plain": [
              "    ID  FirstName MI  LastName  ... AnnualSalary  GrossPay FiscalYear ObjectId\n",
              "0  201   Desiree   C    Alston  ...      23395.0  20482.58     FY2011        1\n",
              "1  101     Maude   E     Akins  ...      31609.0  28525.11     FY2011        2\n",
              "2  301  Shavonna   A  Anderson  ...      44331.0  44093.40     FY2011        3\n",
              "3   51  Margaret   E     Adams  ...      33841.0  30336.61     FY2011        4\n",
              "4    1  Patricia   G     Aaron  ...      50845.0  45505.94     FY2011        5\n",
              "\n",
              "[5 rows x 12 columns]"
            ]
          },
          "metadata": {
            "tags": []
          },
          "execution_count": 103
        }
      ]
    },
    {
      "cell_type": "code",
      "metadata": {
        "colab": {
          "base_uri": "https://localhost:8080/",
          "height": 204
        },
        "id": "-K0qDLeBa5Kj",
        "outputId": "91fd6836-cdf5-49bb-99a6-3c32fff255b7"
      },
      "source": [
        "# preview last five rows of the data\n",
        "df_salary.tail()"
      ],
      "execution_count": 104,
      "outputs": [
        {
          "output_type": "execute_result",
          "data": {
            "text/html": [
              "<div>\n",
              "<style scoped>\n",
              "    .dataframe tbody tr th:only-of-type {\n",
              "        vertical-align: middle;\n",
              "    }\n",
              "\n",
              "    .dataframe tbody tr th {\n",
              "        vertical-align: top;\n",
              "    }\n",
              "\n",
              "    .dataframe thead th {\n",
              "        text-align: right;\n",
              "    }\n",
              "</style>\n",
              "<table border=\"1\" class=\"dataframe\">\n",
              "  <thead>\n",
              "    <tr style=\"text-align: right;\">\n",
              "      <th></th>\n",
              "      <th>ID</th>\n",
              "      <th>FirstName</th>\n",
              "      <th>MI</th>\n",
              "      <th>LastName</th>\n",
              "      <th>JobTitle</th>\n",
              "      <th>AgencyID</th>\n",
              "      <th>AgencyName</th>\n",
              "      <th>HireDate</th>\n",
              "      <th>AnnualSalary</th>\n",
              "      <th>GrossPay</th>\n",
              "      <th>FiscalYear</th>\n",
              "      <th>ObjectId</th>\n",
              "    </tr>\n",
              "  </thead>\n",
              "  <tbody>\n",
              "    <tr>\n",
              "      <th>154643</th>\n",
              "      <td>154582</td>\n",
              "      <td>Shane</td>\n",
              "      <td>NaN</td>\n",
              "      <td>Young</td>\n",
              "      <td>WW Opns Tech II Sanitary</td>\n",
              "      <td>A50207</td>\n",
              "      <td>DPW-Water &amp; Waste Water (207)</td>\n",
              "      <td>2006/06/24 04:00:00+00</td>\n",
              "      <td>46107.0</td>\n",
              "      <td>65518.32</td>\n",
              "      <td>FY2020</td>\n",
              "      <td>154644</td>\n",
              "    </tr>\n",
              "    <tr>\n",
              "      <th>154644</th>\n",
              "      <td>154583</td>\n",
              "      <td>Thomas</td>\n",
              "      <td>G</td>\n",
              "      <td>Young</td>\n",
              "      <td>Police Officer EID</td>\n",
              "      <td>A99322</td>\n",
              "      <td>Police Department (322)</td>\n",
              "      <td>2010/10/13 04:00:00+00</td>\n",
              "      <td>79923.0</td>\n",
              "      <td>108657.52</td>\n",
              "      <td>FY2020</td>\n",
              "      <td>154645</td>\n",
              "    </tr>\n",
              "    <tr>\n",
              "      <th>154645</th>\n",
              "      <td>154584</td>\n",
              "      <td>Valerie</td>\n",
              "      <td>K</td>\n",
              "      <td>Young</td>\n",
              "      <td>Operations Officer II</td>\n",
              "      <td>A14003</td>\n",
              "      <td>FIN-Collections (003)</td>\n",
              "      <td>2011/06/16 04:00:00+00</td>\n",
              "      <td>72730.0</td>\n",
              "      <td>69826.93</td>\n",
              "      <td>FY2020</td>\n",
              "      <td>154646</td>\n",
              "    </tr>\n",
              "    <tr>\n",
              "      <th>154646</th>\n",
              "      <td>154585</td>\n",
              "      <td>Veronica</td>\n",
              "      <td>W</td>\n",
              "      <td>Young</td>\n",
              "      <td>Office Assistant III</td>\n",
              "      <td>A75014</td>\n",
              "      <td>Enoch Pratt Free Library (014)</td>\n",
              "      <td>1973/08/27 04:00:00+00</td>\n",
              "      <td>43759.0</td>\n",
              "      <td>44235.77</td>\n",
              "      <td>FY2020</td>\n",
              "      <td>154647</td>\n",
              "    </tr>\n",
              "    <tr>\n",
              "      <th>154647</th>\n",
              "      <td>154586</td>\n",
              "      <td>Wendy</td>\n",
              "      <td>NaN</td>\n",
              "      <td>Young</td>\n",
              "      <td>Court Secretary I</td>\n",
              "      <td>A31012</td>\n",
              "      <td>Circuit Court (012)</td>\n",
              "      <td>2014/03/24 04:00:00+00</td>\n",
              "      <td>62223.0</td>\n",
              "      <td>62425.39</td>\n",
              "      <td>FY2020</td>\n",
              "      <td>154648</td>\n",
              "    </tr>\n",
              "  </tbody>\n",
              "</table>\n",
              "</div>"
            ],
            "text/plain": [
              "            ID  FirstName   MI  ...   GrossPay FiscalYear ObjectId\n",
              "154643  154582      Shane  NaN  ...   65518.32     FY2020   154644\n",
              "154644  154583    Thomas     G  ...  108657.52     FY2020   154645\n",
              "154645  154584   Valerie     K  ...   69826.93     FY2020   154646\n",
              "154646  154585  Veronica     W  ...   44235.77     FY2020   154647\n",
              "154647  154586      Wendy  NaN  ...   62425.39     FY2020   154648\n",
              "\n",
              "[5 rows x 12 columns]"
            ]
          },
          "metadata": {
            "tags": []
          },
          "execution_count": 104
        }
      ]
    },
    {
      "cell_type": "code",
      "metadata": {
        "colab": {
          "base_uri": "https://localhost:8080/",
          "height": 297
        },
        "id": "dhrcPnePbLNG",
        "outputId": "2c3f50fb-7433-471c-ab99-4491d3b41b7f"
      },
      "source": [
        "# general stats to help us understand the data\n",
        "df_salary.describe()"
      ],
      "execution_count": 105,
      "outputs": [
        {
          "output_type": "execute_result",
          "data": {
            "text/html": [
              "<div>\n",
              "<style scoped>\n",
              "    .dataframe tbody tr th:only-of-type {\n",
              "        vertical-align: middle;\n",
              "    }\n",
              "\n",
              "    .dataframe tbody tr th {\n",
              "        vertical-align: top;\n",
              "    }\n",
              "\n",
              "    .dataframe thead th {\n",
              "        text-align: right;\n",
              "    }\n",
              "</style>\n",
              "<table border=\"1\" class=\"dataframe\">\n",
              "  <thead>\n",
              "    <tr style=\"text-align: right;\">\n",
              "      <th></th>\n",
              "      <th>ID</th>\n",
              "      <th>AnnualSalary</th>\n",
              "      <th>GrossPay</th>\n",
              "      <th>ObjectId</th>\n",
              "    </tr>\n",
              "  </thead>\n",
              "  <tbody>\n",
              "    <tr>\n",
              "      <th>count</th>\n",
              "      <td>154648.000000</td>\n",
              "      <td>154648.000000</td>\n",
              "      <td>146169.000000</td>\n",
              "      <td>154648.000000</td>\n",
              "    </tr>\n",
              "    <tr>\n",
              "      <th>mean</th>\n",
              "      <td>77324.500000</td>\n",
              "      <td>48678.951298</td>\n",
              "      <td>51740.542706</td>\n",
              "      <td>77324.500000</td>\n",
              "    </tr>\n",
              "    <tr>\n",
              "      <th>std</th>\n",
              "      <td>44643.176552</td>\n",
              "      <td>25924.841964</td>\n",
              "      <td>33734.963014</td>\n",
              "      <td>44643.176552</td>\n",
              "    </tr>\n",
              "    <tr>\n",
              "      <th>min</th>\n",
              "      <td>1.000000</td>\n",
              "      <td>0.000000</td>\n",
              "      <td>-1349.000000</td>\n",
              "      <td>1.000000</td>\n",
              "    </tr>\n",
              "    <tr>\n",
              "      <th>25%</th>\n",
              "      <td>38662.750000</td>\n",
              "      <td>31137.000000</td>\n",
              "      <td>30338.490000</td>\n",
              "      <td>38662.750000</td>\n",
              "    </tr>\n",
              "    <tr>\n",
              "      <th>50%</th>\n",
              "      <td>77324.500000</td>\n",
              "      <td>45475.000000</td>\n",
              "      <td>49010.420000</td>\n",
              "      <td>77324.500000</td>\n",
              "    </tr>\n",
              "    <tr>\n",
              "      <th>75%</th>\n",
              "      <td>115986.250000</td>\n",
              "      <td>66086.000000</td>\n",
              "      <td>71819.670000</td>\n",
              "      <td>115986.250000</td>\n",
              "    </tr>\n",
              "    <tr>\n",
              "      <th>max</th>\n",
              "      <td>154648.000000</td>\n",
              "      <td>275000.000000</td>\n",
              "      <td>373111.190000</td>\n",
              "      <td>154648.000000</td>\n",
              "    </tr>\n",
              "  </tbody>\n",
              "</table>\n",
              "</div>"
            ],
            "text/plain": [
              "                  ID   AnnualSalary       GrossPay       ObjectId\n",
              "count  154648.000000  154648.000000  146169.000000  154648.000000\n",
              "mean    77324.500000   48678.951298   51740.542706   77324.500000\n",
              "std     44643.176552   25924.841964   33734.963014   44643.176552\n",
              "min         1.000000       0.000000   -1349.000000       1.000000\n",
              "25%     38662.750000   31137.000000   30338.490000   38662.750000\n",
              "50%     77324.500000   45475.000000   49010.420000   77324.500000\n",
              "75%    115986.250000   66086.000000   71819.670000  115986.250000\n",
              "max    154648.000000  275000.000000  373111.190000  154648.000000"
            ]
          },
          "metadata": {
            "tags": []
          },
          "execution_count": 105
        }
      ]
    },
    {
      "cell_type": "code",
      "metadata": {
        "id": "2M8DBfW1bf07"
      },
      "source": [
        "# delete the object id column\n",
        "\n",
        "del df_salary[\"ObjectId\"]"
      ],
      "execution_count": 106,
      "outputs": []
    },
    {
      "cell_type": "markdown",
      "metadata": {
        "id": "aK-GJEVkeGz8"
      },
      "source": [
        "## cleaning data appearance"
      ]
    },
    {
      "cell_type": "code",
      "metadata": {
        "colab": {
          "base_uri": "https://localhost:8080/",
          "height": 359
        },
        "id": "EjGkAy9ecZfE",
        "outputId": "409b2c0b-de34-4c67-a5a7-0d8b2aee3ecb"
      },
      "source": [
        "df_salary.head(10)"
      ],
      "execution_count": 107,
      "outputs": [
        {
          "output_type": "execute_result",
          "data": {
            "text/html": [
              "<div>\n",
              "<style scoped>\n",
              "    .dataframe tbody tr th:only-of-type {\n",
              "        vertical-align: middle;\n",
              "    }\n",
              "\n",
              "    .dataframe tbody tr th {\n",
              "        vertical-align: top;\n",
              "    }\n",
              "\n",
              "    .dataframe thead th {\n",
              "        text-align: right;\n",
              "    }\n",
              "</style>\n",
              "<table border=\"1\" class=\"dataframe\">\n",
              "  <thead>\n",
              "    <tr style=\"text-align: right;\">\n",
              "      <th></th>\n",
              "      <th>ID</th>\n",
              "      <th>FirstName</th>\n",
              "      <th>MI</th>\n",
              "      <th>LastName</th>\n",
              "      <th>JobTitle</th>\n",
              "      <th>AgencyID</th>\n",
              "      <th>AgencyName</th>\n",
              "      <th>HireDate</th>\n",
              "      <th>AnnualSalary</th>\n",
              "      <th>GrossPay</th>\n",
              "      <th>FiscalYear</th>\n",
              "    </tr>\n",
              "  </thead>\n",
              "  <tbody>\n",
              "    <tr>\n",
              "      <th>0</th>\n",
              "      <td>201</td>\n",
              "      <td>Desiree</td>\n",
              "      <td>C</td>\n",
              "      <td>Alston</td>\n",
              "      <td>SCHOOL HEALTH AIDE (10 MONTHS)</td>\n",
              "      <td>A65105</td>\n",
              "      <td>HLTH-Health Department</td>\n",
              "      <td>2009/10/29 04:00:00+00</td>\n",
              "      <td>23395.0</td>\n",
              "      <td>20482.58</td>\n",
              "      <td>FY2011</td>\n",
              "    </tr>\n",
              "    <tr>\n",
              "      <th>1</th>\n",
              "      <td>101</td>\n",
              "      <td>Maude</td>\n",
              "      <td>E</td>\n",
              "      <td>Akins</td>\n",
              "      <td>DATA ENTRY OPERATOR II</td>\n",
              "      <td>A49300</td>\n",
              "      <td>TRANS-Highways</td>\n",
              "      <td>2002/11/25 05:00:00+00</td>\n",
              "      <td>31609.0</td>\n",
              "      <td>28525.11</td>\n",
              "      <td>FY2011</td>\n",
              "    </tr>\n",
              "    <tr>\n",
              "      <th>2</th>\n",
              "      <td>301</td>\n",
              "      <td>Shavonna</td>\n",
              "      <td>A</td>\n",
              "      <td>Anderson</td>\n",
              "      <td>EMERGENCY DISPATCHER</td>\n",
              "      <td>A99372</td>\n",
              "      <td>Police Department</td>\n",
              "      <td>2001/11/29 05:00:00+00</td>\n",
              "      <td>44331.0</td>\n",
              "      <td>44093.40</td>\n",
              "      <td>FY2011</td>\n",
              "    </tr>\n",
              "    <tr>\n",
              "      <th>3</th>\n",
              "      <td>51</td>\n",
              "      <td>Margaret</td>\n",
              "      <td>E</td>\n",
              "      <td>Adams</td>\n",
              "      <td>PROGRAM ASSISTANT I</td>\n",
              "      <td>A65200</td>\n",
              "      <td>HLTH-Health Department</td>\n",
              "      <td>2008/05/05 04:00:00+00</td>\n",
              "      <td>33841.0</td>\n",
              "      <td>30336.61</td>\n",
              "      <td>FY2011</td>\n",
              "    </tr>\n",
              "    <tr>\n",
              "      <th>4</th>\n",
              "      <td>1</td>\n",
              "      <td>Patricia</td>\n",
              "      <td>G</td>\n",
              "      <td>Aaron</td>\n",
              "      <td>Facilities/Office Services II</td>\n",
              "      <td>A03031</td>\n",
              "      <td>OED-Employment Dev</td>\n",
              "      <td>1979/10/24 04:00:00+00</td>\n",
              "      <td>50845.0</td>\n",
              "      <td>45505.94</td>\n",
              "      <td>FY2011</td>\n",
              "    </tr>\n",
              "    <tr>\n",
              "      <th>5</th>\n",
              "      <td>202</td>\n",
              "      <td>Emmanuel</td>\n",
              "      <td>R</td>\n",
              "      <td>Alston</td>\n",
              "      <td>JTPA TRAINEE MOMR</td>\n",
              "      <td>W03T16</td>\n",
              "      <td>Youth Cust</td>\n",
              "      <td>2007/06/23 04:00:00+00</td>\n",
              "      <td>15080.0</td>\n",
              "      <td>1253.32</td>\n",
              "      <td>FY2011</td>\n",
              "    </tr>\n",
              "    <tr>\n",
              "      <th>6</th>\n",
              "      <td>203</td>\n",
              "      <td>Frank</td>\n",
              "      <td>M</td>\n",
              "      <td>Alston</td>\n",
              "      <td>POLICE OFFICER</td>\n",
              "      <td>A99395</td>\n",
              "      <td>Police Department</td>\n",
              "      <td>1987/12/07 05:00:00+00</td>\n",
              "      <td>67381.0</td>\n",
              "      <td>64195.59</td>\n",
              "      <td>FY2011</td>\n",
              "    </tr>\n",
              "    <tr>\n",
              "      <th>7</th>\n",
              "      <td>204</td>\n",
              "      <td>Henry</td>\n",
              "      <td>L</td>\n",
              "      <td>Alston</td>\n",
              "      <td>MECHANICAL MAINT TECH III</td>\n",
              "      <td>A50101</td>\n",
              "      <td>DPW-Water &amp; Waste Water</td>\n",
              "      <td>1993/10/12 04:00:00+00</td>\n",
              "      <td>42921.0</td>\n",
              "      <td>39521.86</td>\n",
              "      <td>FY2011</td>\n",
              "    </tr>\n",
              "    <tr>\n",
              "      <th>8</th>\n",
              "      <td>205</td>\n",
              "      <td>James</td>\n",
              "      <td>NaN</td>\n",
              "      <td>Alston</td>\n",
              "      <td>LABORER</td>\n",
              "      <td>B49308</td>\n",
              "      <td>TRANS-Highways</td>\n",
              "      <td>1999/12/20 05:00:00+00</td>\n",
              "      <td>28891.0</td>\n",
              "      <td>26335.44</td>\n",
              "      <td>FY2011</td>\n",
              "    </tr>\n",
              "    <tr>\n",
              "      <th>9</th>\n",
              "      <td>206</td>\n",
              "      <td>Jeffrey</td>\n",
              "      <td>NaN</td>\n",
              "      <td>Alston</td>\n",
              "      <td>DIRECTOR HUMAN RESOURCES</td>\n",
              "      <td>A91011</td>\n",
              "      <td>M-R Convention Center</td>\n",
              "      <td>2005/04/28 04:00:00+00</td>\n",
              "      <td>68500.0</td>\n",
              "      <td>58488.82</td>\n",
              "      <td>FY2011</td>\n",
              "    </tr>\n",
              "  </tbody>\n",
              "</table>\n",
              "</div>"
            ],
            "text/plain": [
              "    ID  FirstName   MI  ... AnnualSalary  GrossPay FiscalYear\n",
              "0  201   Desiree     C  ...      23395.0  20482.58     FY2011\n",
              "1  101     Maude     E  ...      31609.0  28525.11     FY2011\n",
              "2  301  Shavonna     A  ...      44331.0  44093.40     FY2011\n",
              "3   51  Margaret     E  ...      33841.0  30336.61     FY2011\n",
              "4    1  Patricia     G  ...      50845.0  45505.94     FY2011\n",
              "5  202  Emmanuel     R  ...      15080.0   1253.32     FY2011\n",
              "6  203     Frank     M  ...      67381.0  64195.59     FY2011\n",
              "7  204     Henry     L  ...      42921.0  39521.86     FY2011\n",
              "8  205      James  NaN  ...      28891.0  26335.44     FY2011\n",
              "9  206    Jeffrey  NaN  ...      68500.0  58488.82     FY2011\n",
              "\n",
              "[10 rows x 11 columns]"
            ]
          },
          "metadata": {
            "tags": []
          },
          "execution_count": 107
        }
      ]
    },
    {
      "cell_type": "code",
      "metadata": {
        "colab": {
          "base_uri": "https://localhost:8080/"
        },
        "id": "Efghb8F2eoVE",
        "outputId": "8085f6ce-86af-4d67-a763-346dac4e27f6"
      },
      "source": [
        "df_salary.columns.tolist()"
      ],
      "execution_count": 108,
      "outputs": [
        {
          "output_type": "execute_result",
          "data": {
            "text/plain": [
              "['ID',\n",
              " 'FirstName',\n",
              " 'MI',\n",
              " 'LastName',\n",
              " 'JobTitle',\n",
              " 'AgencyID',\n",
              " 'AgencyName',\n",
              " 'HireDate',\n",
              " 'AnnualSalary',\n",
              " 'GrossPay',\n",
              " 'FiscalYear']"
            ]
          },
          "metadata": {
            "tags": []
          },
          "execution_count": 108
        }
      ]
    },
    {
      "cell_type": "code",
      "metadata": {
        "id": "4yaD0ZQAeU3f"
      },
      "source": [
        "# making all of the column headers into lowercase\n",
        "df_salary.columns = df_salary.columns.str.lower()"
      ],
      "execution_count": 109,
      "outputs": []
    },
    {
      "cell_type": "code",
      "metadata": {
        "id": "LtcFmhKCfNmF"
      },
      "source": [
        "# make all items in jobtitle uppercase\n",
        "df_salary[\"jobtitle\"] = df_salary[\"jobtitle\"].str.upper()\n",
        "df_salary[\"agencyname\"] = df_salary[\"agencyname\"].str.upper()"
      ],
      "execution_count": 110,
      "outputs": []
    },
    {
      "cell_type": "code",
      "metadata": {
        "id": "DOEm1MDAfocD"
      },
      "source": [
        "# make a loop to change a list of columns into uppercase\n",
        "\n",
        "# define the word column list\n",
        "word_col = [\n",
        " 'firstname',\n",
        " 'mi',\n",
        " 'lastname',\n",
        " 'jobtitle',\n",
        " 'agencyid',\n",
        " 'agencyname']\n",
        "\n",
        "# create a for loop to make all columns in list to uppercase\n",
        "for column in word_col:\n",
        "   df_salary[column] = df_salary[column].str.upper()\n"
      ],
      "execution_count": 111,
      "outputs": []
    },
    {
      "cell_type": "code",
      "metadata": {
        "colab": {
          "base_uri": "https://localhost:8080/",
          "height": 204
        },
        "id": "4Y3We7NshCQs",
        "outputId": "81df537c-df11-463e-a519-87e3faead12b"
      },
      "source": [
        "df_salary.head()"
      ],
      "execution_count": 112,
      "outputs": [
        {
          "output_type": "execute_result",
          "data": {
            "text/html": [
              "<div>\n",
              "<style scoped>\n",
              "    .dataframe tbody tr th:only-of-type {\n",
              "        vertical-align: middle;\n",
              "    }\n",
              "\n",
              "    .dataframe tbody tr th {\n",
              "        vertical-align: top;\n",
              "    }\n",
              "\n",
              "    .dataframe thead th {\n",
              "        text-align: right;\n",
              "    }\n",
              "</style>\n",
              "<table border=\"1\" class=\"dataframe\">\n",
              "  <thead>\n",
              "    <tr style=\"text-align: right;\">\n",
              "      <th></th>\n",
              "      <th>id</th>\n",
              "      <th>firstname</th>\n",
              "      <th>mi</th>\n",
              "      <th>lastname</th>\n",
              "      <th>jobtitle</th>\n",
              "      <th>agencyid</th>\n",
              "      <th>agencyname</th>\n",
              "      <th>hiredate</th>\n",
              "      <th>annualsalary</th>\n",
              "      <th>grosspay</th>\n",
              "      <th>fiscalyear</th>\n",
              "    </tr>\n",
              "  </thead>\n",
              "  <tbody>\n",
              "    <tr>\n",
              "      <th>0</th>\n",
              "      <td>201</td>\n",
              "      <td>DESIREE</td>\n",
              "      <td>C</td>\n",
              "      <td>ALSTON</td>\n",
              "      <td>SCHOOL HEALTH AIDE (10 MONTHS)</td>\n",
              "      <td>A65105</td>\n",
              "      <td>HLTH-HEALTH DEPARTMENT</td>\n",
              "      <td>2009/10/29 04:00:00+00</td>\n",
              "      <td>23395.0</td>\n",
              "      <td>20482.58</td>\n",
              "      <td>FY2011</td>\n",
              "    </tr>\n",
              "    <tr>\n",
              "      <th>1</th>\n",
              "      <td>101</td>\n",
              "      <td>MAUDE</td>\n",
              "      <td>E</td>\n",
              "      <td>AKINS</td>\n",
              "      <td>DATA ENTRY OPERATOR II</td>\n",
              "      <td>A49300</td>\n",
              "      <td>TRANS-HIGHWAYS</td>\n",
              "      <td>2002/11/25 05:00:00+00</td>\n",
              "      <td>31609.0</td>\n",
              "      <td>28525.11</td>\n",
              "      <td>FY2011</td>\n",
              "    </tr>\n",
              "    <tr>\n",
              "      <th>2</th>\n",
              "      <td>301</td>\n",
              "      <td>SHAVONNA</td>\n",
              "      <td>A</td>\n",
              "      <td>ANDERSON</td>\n",
              "      <td>EMERGENCY DISPATCHER</td>\n",
              "      <td>A99372</td>\n",
              "      <td>POLICE DEPARTMENT</td>\n",
              "      <td>2001/11/29 05:00:00+00</td>\n",
              "      <td>44331.0</td>\n",
              "      <td>44093.40</td>\n",
              "      <td>FY2011</td>\n",
              "    </tr>\n",
              "    <tr>\n",
              "      <th>3</th>\n",
              "      <td>51</td>\n",
              "      <td>MARGARET</td>\n",
              "      <td>E</td>\n",
              "      <td>ADAMS</td>\n",
              "      <td>PROGRAM ASSISTANT I</td>\n",
              "      <td>A65200</td>\n",
              "      <td>HLTH-HEALTH DEPARTMENT</td>\n",
              "      <td>2008/05/05 04:00:00+00</td>\n",
              "      <td>33841.0</td>\n",
              "      <td>30336.61</td>\n",
              "      <td>FY2011</td>\n",
              "    </tr>\n",
              "    <tr>\n",
              "      <th>4</th>\n",
              "      <td>1</td>\n",
              "      <td>PATRICIA</td>\n",
              "      <td>G</td>\n",
              "      <td>AARON</td>\n",
              "      <td>FACILITIES/OFFICE SERVICES II</td>\n",
              "      <td>A03031</td>\n",
              "      <td>OED-EMPLOYMENT DEV</td>\n",
              "      <td>1979/10/24 04:00:00+00</td>\n",
              "      <td>50845.0</td>\n",
              "      <td>45505.94</td>\n",
              "      <td>FY2011</td>\n",
              "    </tr>\n",
              "  </tbody>\n",
              "</table>\n",
              "</div>"
            ],
            "text/plain": [
              "    id  firstname mi  ... annualsalary  grosspay fiscalyear\n",
              "0  201   DESIREE   C  ...      23395.0  20482.58     FY2011\n",
              "1  101     MAUDE   E  ...      31609.0  28525.11     FY2011\n",
              "2  301  SHAVONNA   A  ...      44331.0  44093.40     FY2011\n",
              "3   51  MARGARET   E  ...      33841.0  30336.61     FY2011\n",
              "4    1  PATRICIA   G  ...      50845.0  45505.94     FY2011\n",
              "\n",
              "[5 rows x 11 columns]"
            ]
          },
          "metadata": {
            "tags": []
          },
          "execution_count": 112
        }
      ]
    },
    {
      "cell_type": "markdown",
      "metadata": {
        "id": "ZmWSOozlhjPE"
      },
      "source": [
        "# basic data manipulation"
      ]
    },
    {
      "cell_type": "code",
      "metadata": {
        "id": "ObFIPD_5hMEY"
      },
      "source": [
        "# add an \"overtime\" column\n",
        "df_salary[\"overtime\"] = df_salary[\"grosspay\"] - df_salary[\"annualsalary\"]"
      ],
      "execution_count": 113,
      "outputs": []
    },
    {
      "cell_type": "code",
      "metadata": {
        "colab": {
          "base_uri": "https://localhost:8080/",
          "height": 682
        },
        "id": "1oom5cb4iHEZ",
        "outputId": "9ce2ada7-c2f2-4492-8766-1b04157a8be0"
      },
      "source": [
        "df_salary.tail(10)"
      ],
      "execution_count": 121,
      "outputs": [
        {
          "output_type": "execute_result",
          "data": {
            "text/html": [
              "<div>\n",
              "<style scoped>\n",
              "    .dataframe tbody tr th:only-of-type {\n",
              "        vertical-align: middle;\n",
              "    }\n",
              "\n",
              "    .dataframe tbody tr th {\n",
              "        vertical-align: top;\n",
              "    }\n",
              "\n",
              "    .dataframe thead th {\n",
              "        text-align: right;\n",
              "    }\n",
              "</style>\n",
              "<table border=\"1\" class=\"dataframe\">\n",
              "  <thead>\n",
              "    <tr style=\"text-align: right;\">\n",
              "      <th></th>\n",
              "      <th>id</th>\n",
              "      <th>firstname</th>\n",
              "      <th>mi</th>\n",
              "      <th>lastname</th>\n",
              "      <th>jobtitle</th>\n",
              "      <th>agencyid</th>\n",
              "      <th>agencyname</th>\n",
              "      <th>hiredate</th>\n",
              "      <th>annualsalary</th>\n",
              "      <th>grosspay</th>\n",
              "      <th>fiscalyear</th>\n",
              "      <th>overtime</th>\n",
              "      <th>fullname</th>\n",
              "      <th>agencyname_only</th>\n",
              "    </tr>\n",
              "  </thead>\n",
              "  <tbody>\n",
              "    <tr>\n",
              "      <th>154638</th>\n",
              "      <td>154577</td>\n",
              "      <td>MARVIN</td>\n",
              "      <td>M</td>\n",
              "      <td>YOUNG</td>\n",
              "      <td>WW TECH SUPV II SANITARY</td>\n",
              "      <td>A50208</td>\n",
              "      <td>DPW-WATER &amp; WASTE WATER (208)</td>\n",
              "      <td>1982/05/17 04:00:00+00</td>\n",
              "      <td>68533.0</td>\n",
              "      <td>81030.34</td>\n",
              "      <td>FY2020</td>\n",
              "      <td>12497.34</td>\n",
              "      <td>MARVIN  YOUNG</td>\n",
              "      <td>DPW</td>\n",
              "    </tr>\n",
              "    <tr>\n",
              "      <th>154639</th>\n",
              "      <td>154578</td>\n",
              "      <td>MELVIN</td>\n",
              "      <td>NaN</td>\n",
              "      <td>YOUNG</td>\n",
              "      <td>SOLID WASTE DRIVER</td>\n",
              "      <td>B70411</td>\n",
              "      <td>DPW-SOLID WASTE (WKLY) (411)</td>\n",
              "      <td>1995/06/26 04:00:00+00</td>\n",
              "      <td>46615.0</td>\n",
              "      <td>48387.44</td>\n",
              "      <td>FY2020</td>\n",
              "      <td>1772.44</td>\n",
              "      <td>MELVIN YOUNG</td>\n",
              "      <td>DPW</td>\n",
              "    </tr>\n",
              "    <tr>\n",
              "      <th>154640</th>\n",
              "      <td>154579</td>\n",
              "      <td>MORGAN</td>\n",
              "      <td>M</td>\n",
              "      <td>YOUNG</td>\n",
              "      <td>COMMUNITY AIDE</td>\n",
              "      <td>A49109</td>\n",
              "      <td>TRANS-HIGHWAYS (109)</td>\n",
              "      <td>2019/07/01 04:00:00+00</td>\n",
              "      <td>21840.0</td>\n",
              "      <td>525.00</td>\n",
              "      <td>FY2020</td>\n",
              "      <td>-21315.00</td>\n",
              "      <td>MORGAN  YOUNG</td>\n",
              "      <td>TRANS</td>\n",
              "    </tr>\n",
              "    <tr>\n",
              "      <th>154641</th>\n",
              "      <td>154580</td>\n",
              "      <td>NATHAN</td>\n",
              "      <td>A</td>\n",
              "      <td>YOUNG</td>\n",
              "      <td>TREE SERVICE SUPV I</td>\n",
              "      <td>A68001</td>\n",
              "      <td>R&amp;P-PARKS (001)</td>\n",
              "      <td>2001/11/05 05:00:00+00</td>\n",
              "      <td>44029.0</td>\n",
              "      <td>59786.24</td>\n",
              "      <td>FY2020</td>\n",
              "      <td>15757.24</td>\n",
              "      <td>NATHAN  YOUNG</td>\n",
              "      <td>R&amp;P</td>\n",
              "    </tr>\n",
              "    <tr>\n",
              "      <th>154642</th>\n",
              "      <td>154581</td>\n",
              "      <td>RICKIE</td>\n",
              "      <td>L</td>\n",
              "      <td>YOUNG</td>\n",
              "      <td>LABORER</td>\n",
              "      <td>A50553</td>\n",
              "      <td>DPW-WATER &amp; WASTE WATER (553)</td>\n",
              "      <td>2015/11/23 05:00:00+00</td>\n",
              "      <td>33933.0</td>\n",
              "      <td>48901.41</td>\n",
              "      <td>FY2020</td>\n",
              "      <td>14968.41</td>\n",
              "      <td>RICKIE  YOUNG</td>\n",
              "      <td>DPW</td>\n",
              "    </tr>\n",
              "    <tr>\n",
              "      <th>154643</th>\n",
              "      <td>154582</td>\n",
              "      <td>SHANE</td>\n",
              "      <td>NaN</td>\n",
              "      <td>YOUNG</td>\n",
              "      <td>WW OPNS TECH II SANITARY</td>\n",
              "      <td>A50207</td>\n",
              "      <td>DPW-WATER &amp; WASTE WATER (207)</td>\n",
              "      <td>2006/06/24 04:00:00+00</td>\n",
              "      <td>46107.0</td>\n",
              "      <td>65518.32</td>\n",
              "      <td>FY2020</td>\n",
              "      <td>19411.32</td>\n",
              "      <td>SHANE YOUNG</td>\n",
              "      <td>DPW</td>\n",
              "    </tr>\n",
              "    <tr>\n",
              "      <th>154644</th>\n",
              "      <td>154583</td>\n",
              "      <td>THOMAS</td>\n",
              "      <td>G</td>\n",
              "      <td>YOUNG</td>\n",
              "      <td>POLICE OFFICER EID</td>\n",
              "      <td>A99322</td>\n",
              "      <td>POLICE DEPARTMENT (322)</td>\n",
              "      <td>2010/10/13 04:00:00+00</td>\n",
              "      <td>79923.0</td>\n",
              "      <td>108657.52</td>\n",
              "      <td>FY2020</td>\n",
              "      <td>28734.52</td>\n",
              "      <td>THOMAS  YOUNG</td>\n",
              "      <td>POLICE DEPARTMENT</td>\n",
              "    </tr>\n",
              "    <tr>\n",
              "      <th>154645</th>\n",
              "      <td>154584</td>\n",
              "      <td>VALERIE</td>\n",
              "      <td>K</td>\n",
              "      <td>YOUNG</td>\n",
              "      <td>OPERATIONS OFFICER II</td>\n",
              "      <td>A14003</td>\n",
              "      <td>FIN-COLLECTIONS (003)</td>\n",
              "      <td>2011/06/16 04:00:00+00</td>\n",
              "      <td>72730.0</td>\n",
              "      <td>69826.93</td>\n",
              "      <td>FY2020</td>\n",
              "      <td>-2903.07</td>\n",
              "      <td>VALERIE  YOUNG</td>\n",
              "      <td>FIN</td>\n",
              "    </tr>\n",
              "    <tr>\n",
              "      <th>154646</th>\n",
              "      <td>154585</td>\n",
              "      <td>VERONICA</td>\n",
              "      <td>W</td>\n",
              "      <td>YOUNG</td>\n",
              "      <td>OFFICE ASSISTANT III</td>\n",
              "      <td>A75014</td>\n",
              "      <td>ENOCH PRATT FREE LIBRARY (014)</td>\n",
              "      <td>1973/08/27 04:00:00+00</td>\n",
              "      <td>43759.0</td>\n",
              "      <td>44235.77</td>\n",
              "      <td>FY2020</td>\n",
              "      <td>476.77</td>\n",
              "      <td>VERONICA  YOUNG</td>\n",
              "      <td>ENOCH PRATT FREE LIBRARY</td>\n",
              "    </tr>\n",
              "    <tr>\n",
              "      <th>154647</th>\n",
              "      <td>154586</td>\n",
              "      <td>WENDY</td>\n",
              "      <td>NaN</td>\n",
              "      <td>YOUNG</td>\n",
              "      <td>COURT SECRETARY I</td>\n",
              "      <td>A31012</td>\n",
              "      <td>CIRCUIT COURT (012)</td>\n",
              "      <td>2014/03/24 04:00:00+00</td>\n",
              "      <td>62223.0</td>\n",
              "      <td>62425.39</td>\n",
              "      <td>FY2020</td>\n",
              "      <td>202.39</td>\n",
              "      <td>WENDY YOUNG</td>\n",
              "      <td>CIRCUIT COURT</td>\n",
              "    </tr>\n",
              "  </tbody>\n",
              "</table>\n",
              "</div>"
            ],
            "text/plain": [
              "            id  firstname  ...         fullname            agencyname_only\n",
              "154638  154577    MARVIN   ...    MARVIN  YOUNG                        DPW\n",
              "154639  154578     MELVIN  ...     MELVIN YOUNG                        DPW\n",
              "154640  154579    MORGAN   ...    MORGAN  YOUNG                      TRANS\n",
              "154641  154580    NATHAN   ...    NATHAN  YOUNG                        R&P\n",
              "154642  154581    RICKIE   ...    RICKIE  YOUNG                        DPW\n",
              "154643  154582      SHANE  ...      SHANE YOUNG                        DPW\n",
              "154644  154583    THOMAS   ...    THOMAS  YOUNG         POLICE DEPARTMENT \n",
              "154645  154584   VALERIE   ...   VALERIE  YOUNG                        FIN\n",
              "154646  154585  VERONICA   ...  VERONICA  YOUNG  ENOCH PRATT FREE LIBRARY \n",
              "154647  154586      WENDY  ...      WENDY YOUNG             CIRCUIT COURT \n",
              "\n",
              "[10 rows x 14 columns]"
            ]
          },
          "metadata": {
            "tags": []
          },
          "execution_count": 121
        }
      ]
    },
    {
      "cell_type": "code",
      "metadata": {
        "id": "s4DLdZz5iImS"
      },
      "source": [
        "# add letter (strings)\n",
        "df_salary[\"fullname\"] = df_salary[\"firstname\"] + \" \" + df_salary[\"lastname\"]"
      ],
      "execution_count": 115,
      "outputs": []
    },
    {
      "cell_type": "markdown",
      "metadata": {
        "id": "mwHXay24oIGO"
      },
      "source": [
        "### splitting data in columns or removing data based on delimeters"
      ]
    },
    {
      "cell_type": "code",
      "metadata": {
        "id": "5V4PUPkzkijr"
      },
      "source": [
        "# create column for only agency name\n",
        "df_salary[\"agencyname_only\"] = df_salary[\"agencyname\"].str.split(\"-\", 1, expand = True)"
      ],
      "execution_count": 118,
      "outputs": []
    },
    {
      "cell_type": "code",
      "metadata": {
        "id": "qwuBO9nLlkdP"
      },
      "source": [
        "# remove the location numbers \n",
        "df_salary[\"agencyname_only\"] = df_salary[\"agencyname_only\"].str.split(\"(\", 1, expand = True)"
      ],
      "execution_count": 120,
      "outputs": []
    },
    {
      "cell_type": "markdown",
      "metadata": {
        "id": "gNhoDlb4oGIl"
      },
      "source": [
        "### filtering information"
      ]
    },
    {
      "cell_type": "code",
      "metadata": {
        "colab": {
          "base_uri": "https://localhost:8080/"
        },
        "id": "UYNJcFJOn-zZ",
        "outputId": "a4ebe63b-7d84-4e70-d015-29c70aa2f754"
      },
      "source": [
        "# how many job titles are there?\n",
        "df_salary[\"jobtitle\"].nunique()"
      ],
      "execution_count": 122,
      "outputs": [
        {
          "output_type": "execute_result",
          "data": {
            "text/plain": [
              "1815"
            ]
          },
          "metadata": {
            "tags": []
          },
          "execution_count": 122
        }
      ]
    },
    {
      "cell_type": "code",
      "metadata": {
        "id": "hFdOtEJEoYoS"
      },
      "source": [
        "# what are the job titles names?\n",
        "df_salary[\"jobtitle\"].unique().tolist()"
      ],
      "execution_count": null,
      "outputs": []
    },
    {
      "cell_type": "code",
      "metadata": {
        "id": "qlN7UtcOodyy"
      },
      "source": [
        "# create a df for FY 2020\n",
        "\n",
        "df_salary_2020 = df_salary[df_salary[\"fiscalyear\"] == \"FY2020\"]"
      ],
      "execution_count": 125,
      "outputs": []
    },
    {
      "cell_type": "code",
      "metadata": {
        "colab": {
          "base_uri": "https://localhost:8080/",
          "height": 357
        },
        "id": "dUF7em_bo5uI",
        "outputId": "c8525a12-2fee-4ed8-bcb0-64cee4300acb"
      },
      "source": [
        "df_salary_2020.tail()"
      ],
      "execution_count": 127,
      "outputs": [
        {
          "output_type": "execute_result",
          "data": {
            "text/html": [
              "<div>\n",
              "<style scoped>\n",
              "    .dataframe tbody tr th:only-of-type {\n",
              "        vertical-align: middle;\n",
              "    }\n",
              "\n",
              "    .dataframe tbody tr th {\n",
              "        vertical-align: top;\n",
              "    }\n",
              "\n",
              "    .dataframe thead th {\n",
              "        text-align: right;\n",
              "    }\n",
              "</style>\n",
              "<table border=\"1\" class=\"dataframe\">\n",
              "  <thead>\n",
              "    <tr style=\"text-align: right;\">\n",
              "      <th></th>\n",
              "      <th>id</th>\n",
              "      <th>firstname</th>\n",
              "      <th>mi</th>\n",
              "      <th>lastname</th>\n",
              "      <th>jobtitle</th>\n",
              "      <th>agencyid</th>\n",
              "      <th>agencyname</th>\n",
              "      <th>hiredate</th>\n",
              "      <th>annualsalary</th>\n",
              "      <th>grosspay</th>\n",
              "      <th>fiscalyear</th>\n",
              "      <th>overtime</th>\n",
              "      <th>fullname</th>\n",
              "      <th>agencyname_only</th>\n",
              "    </tr>\n",
              "  </thead>\n",
              "  <tbody>\n",
              "    <tr>\n",
              "      <th>154643</th>\n",
              "      <td>154582</td>\n",
              "      <td>SHANE</td>\n",
              "      <td>NaN</td>\n",
              "      <td>YOUNG</td>\n",
              "      <td>WW OPNS TECH II SANITARY</td>\n",
              "      <td>A50207</td>\n",
              "      <td>DPW-WATER &amp; WASTE WATER (207)</td>\n",
              "      <td>2006/06/24 04:00:00+00</td>\n",
              "      <td>46107.0</td>\n",
              "      <td>65518.32</td>\n",
              "      <td>FY2020</td>\n",
              "      <td>19411.32</td>\n",
              "      <td>SHANE YOUNG</td>\n",
              "      <td>DPW</td>\n",
              "    </tr>\n",
              "    <tr>\n",
              "      <th>154644</th>\n",
              "      <td>154583</td>\n",
              "      <td>THOMAS</td>\n",
              "      <td>G</td>\n",
              "      <td>YOUNG</td>\n",
              "      <td>POLICE OFFICER EID</td>\n",
              "      <td>A99322</td>\n",
              "      <td>POLICE DEPARTMENT (322)</td>\n",
              "      <td>2010/10/13 04:00:00+00</td>\n",
              "      <td>79923.0</td>\n",
              "      <td>108657.52</td>\n",
              "      <td>FY2020</td>\n",
              "      <td>28734.52</td>\n",
              "      <td>THOMAS  YOUNG</td>\n",
              "      <td>POLICE DEPARTMENT</td>\n",
              "    </tr>\n",
              "    <tr>\n",
              "      <th>154645</th>\n",
              "      <td>154584</td>\n",
              "      <td>VALERIE</td>\n",
              "      <td>K</td>\n",
              "      <td>YOUNG</td>\n",
              "      <td>OPERATIONS OFFICER II</td>\n",
              "      <td>A14003</td>\n",
              "      <td>FIN-COLLECTIONS (003)</td>\n",
              "      <td>2011/06/16 04:00:00+00</td>\n",
              "      <td>72730.0</td>\n",
              "      <td>69826.93</td>\n",
              "      <td>FY2020</td>\n",
              "      <td>-2903.07</td>\n",
              "      <td>VALERIE  YOUNG</td>\n",
              "      <td>FIN</td>\n",
              "    </tr>\n",
              "    <tr>\n",
              "      <th>154646</th>\n",
              "      <td>154585</td>\n",
              "      <td>VERONICA</td>\n",
              "      <td>W</td>\n",
              "      <td>YOUNG</td>\n",
              "      <td>OFFICE ASSISTANT III</td>\n",
              "      <td>A75014</td>\n",
              "      <td>ENOCH PRATT FREE LIBRARY (014)</td>\n",
              "      <td>1973/08/27 04:00:00+00</td>\n",
              "      <td>43759.0</td>\n",
              "      <td>44235.77</td>\n",
              "      <td>FY2020</td>\n",
              "      <td>476.77</td>\n",
              "      <td>VERONICA  YOUNG</td>\n",
              "      <td>ENOCH PRATT FREE LIBRARY</td>\n",
              "    </tr>\n",
              "    <tr>\n",
              "      <th>154647</th>\n",
              "      <td>154586</td>\n",
              "      <td>WENDY</td>\n",
              "      <td>NaN</td>\n",
              "      <td>YOUNG</td>\n",
              "      <td>COURT SECRETARY I</td>\n",
              "      <td>A31012</td>\n",
              "      <td>CIRCUIT COURT (012)</td>\n",
              "      <td>2014/03/24 04:00:00+00</td>\n",
              "      <td>62223.0</td>\n",
              "      <td>62425.39</td>\n",
              "      <td>FY2020</td>\n",
              "      <td>202.39</td>\n",
              "      <td>WENDY YOUNG</td>\n",
              "      <td>CIRCUIT COURT</td>\n",
              "    </tr>\n",
              "  </tbody>\n",
              "</table>\n",
              "</div>"
            ],
            "text/plain": [
              "            id  firstname  ...         fullname            agencyname_only\n",
              "154643  154582      SHANE  ...      SHANE YOUNG                        DPW\n",
              "154644  154583    THOMAS   ...    THOMAS  YOUNG         POLICE DEPARTMENT \n",
              "154645  154584   VALERIE   ...   VALERIE  YOUNG                        FIN\n",
              "154646  154585  VERONICA   ...  VERONICA  YOUNG  ENOCH PRATT FREE LIBRARY \n",
              "154647  154586      WENDY  ...      WENDY YOUNG             CIRCUIT COURT \n",
              "\n",
              "[5 rows x 14 columns]"
            ]
          },
          "metadata": {
            "tags": []
          },
          "execution_count": 127
        }
      ]
    },
    {
      "cell_type": "code",
      "metadata": {
        "colab": {
          "base_uri": "https://localhost:8080/"
        },
        "id": "66LokXL_o7Ro",
        "outputId": "73e7d180-2ee3-4301-f729-b5bd64856a30"
      },
      "source": [
        "df_salary_2020[\"fiscalyear\"].unique()"
      ],
      "execution_count": 128,
      "outputs": [
        {
          "output_type": "execute_result",
          "data": {
            "text/plain": [
              "array(['FY2020'], dtype=object)"
            ]
          },
          "metadata": {
            "tags": []
          },
          "execution_count": 128
        }
      ]
    },
    {
      "cell_type": "markdown",
      "metadata": {
        "id": "AT5dSQZ1qGdg"
      },
      "source": [
        "# Aggregating Salary Data based on fiscal year"
      ]
    },
    {
      "cell_type": "code",
      "metadata": {
        "id": "nPW_-wC8qF3q"
      },
      "source": [
        "# use groupby to aggregate means of salary data\n",
        "df_salary_agg = df_salary.groupby(\"fiscalyear\")[\"annualsalary\"].agg([\"mean\"]).reset_index()"
      ],
      "execution_count": 131,
      "outputs": []
    },
    {
      "cell_type": "code",
      "metadata": {
        "colab": {
          "base_uri": "https://localhost:8080/",
          "height": 359
        },
        "id": "stRSadM1pBUa",
        "outputId": "6564a559-2d9f-4d0a-89da-2ed8ebceb5dc"
      },
      "source": [
        "df_salary_agg"
      ],
      "execution_count": 132,
      "outputs": [
        {
          "output_type": "execute_result",
          "data": {
            "text/html": [
              "<div>\n",
              "<style scoped>\n",
              "    .dataframe tbody tr th:only-of-type {\n",
              "        vertical-align: middle;\n",
              "    }\n",
              "\n",
              "    .dataframe tbody tr th {\n",
              "        vertical-align: top;\n",
              "    }\n",
              "\n",
              "    .dataframe thead th {\n",
              "        text-align: right;\n",
              "    }\n",
              "</style>\n",
              "<table border=\"1\" class=\"dataframe\">\n",
              "  <thead>\n",
              "    <tr style=\"text-align: right;\">\n",
              "      <th></th>\n",
              "      <th>fiscalyear</th>\n",
              "      <th>mean</th>\n",
              "    </tr>\n",
              "  </thead>\n",
              "  <tbody>\n",
              "    <tr>\n",
              "      <th>0</th>\n",
              "      <td>FY2011</td>\n",
              "      <td>46006.618203</td>\n",
              "    </tr>\n",
              "    <tr>\n",
              "      <th>1</th>\n",
              "      <td>FY2012</td>\n",
              "      <td>43398.358849</td>\n",
              "    </tr>\n",
              "    <tr>\n",
              "      <th>2</th>\n",
              "      <td>FY2013</td>\n",
              "      <td>38289.855328</td>\n",
              "    </tr>\n",
              "    <tr>\n",
              "      <th>3</th>\n",
              "      <td>FY2014</td>\n",
              "      <td>39756.791968</td>\n",
              "    </tr>\n",
              "    <tr>\n",
              "      <th>4</th>\n",
              "      <td>FY2015</td>\n",
              "      <td>51708.083521</td>\n",
              "    </tr>\n",
              "    <tr>\n",
              "      <th>5</th>\n",
              "      <td>FY2016</td>\n",
              "      <td>53032.957121</td>\n",
              "    </tr>\n",
              "    <tr>\n",
              "      <th>6</th>\n",
              "      <td>FY2017</td>\n",
              "      <td>54899.880294</td>\n",
              "    </tr>\n",
              "    <tr>\n",
              "      <th>7</th>\n",
              "      <td>FY2018</td>\n",
              "      <td>56751.774026</td>\n",
              "    </tr>\n",
              "    <tr>\n",
              "      <th>8</th>\n",
              "      <td>FY2019</td>\n",
              "      <td>57845.282680</td>\n",
              "    </tr>\n",
              "    <tr>\n",
              "      <th>9</th>\n",
              "      <td>FY2020</td>\n",
              "      <td>52628.143628</td>\n",
              "    </tr>\n",
              "  </tbody>\n",
              "</table>\n",
              "</div>"
            ],
            "text/plain": [
              "  fiscalyear          mean\n",
              "0     FY2011  46006.618203\n",
              "1     FY2012  43398.358849\n",
              "2     FY2013  38289.855328\n",
              "3     FY2014  39756.791968\n",
              "4     FY2015  51708.083521\n",
              "5     FY2016  53032.957121\n",
              "6     FY2017  54899.880294\n",
              "7     FY2018  56751.774026\n",
              "8     FY2019  57845.282680\n",
              "9     FY2020  52628.143628"
            ]
          },
          "metadata": {
            "tags": []
          },
          "execution_count": 132
        }
      ]
    },
    {
      "cell_type": "code",
      "metadata": {
        "id": "2gd5huN6qaqy"
      },
      "source": [
        "# use groupby to aggregate means of salary data\n",
        "df_salary_agg = df_salary.groupby(\"fiscalyear\").agg({\"annualsalary\": \"mean\",\n",
        "                                                     \"grosspay\": \"mean\",\n",
        "                                                     \"overtime\": \"mean\"}).reset_index()"
      ],
      "execution_count": 133,
      "outputs": []
    },
    {
      "cell_type": "code",
      "metadata": {
        "colab": {
          "base_uri": "https://localhost:8080/",
          "height": 359
        },
        "id": "q4TVGxY8u4_v",
        "outputId": "7ae2ab92-fa16-4462-a7c4-5594a2cfc132"
      },
      "source": [
        "df_salary_agg"
      ],
      "execution_count": 134,
      "outputs": [
        {
          "output_type": "execute_result",
          "data": {
            "text/html": [
              "<div>\n",
              "<style scoped>\n",
              "    .dataframe tbody tr th:only-of-type {\n",
              "        vertical-align: middle;\n",
              "    }\n",
              "\n",
              "    .dataframe tbody tr th {\n",
              "        vertical-align: top;\n",
              "    }\n",
              "\n",
              "    .dataframe thead th {\n",
              "        text-align: right;\n",
              "    }\n",
              "</style>\n",
              "<table border=\"1\" class=\"dataframe\">\n",
              "  <thead>\n",
              "    <tr style=\"text-align: right;\">\n",
              "      <th></th>\n",
              "      <th>fiscalyear</th>\n",
              "      <th>annualsalary</th>\n",
              "      <th>grosspay</th>\n",
              "      <th>overtime</th>\n",
              "    </tr>\n",
              "  </thead>\n",
              "  <tbody>\n",
              "    <tr>\n",
              "      <th>0</th>\n",
              "      <td>FY2011</td>\n",
              "      <td>46006.618203</td>\n",
              "      <td>42322.026667</td>\n",
              "      <td>-3684.591536</td>\n",
              "    </tr>\n",
              "    <tr>\n",
              "      <th>1</th>\n",
              "      <td>FY2012</td>\n",
              "      <td>43398.358849</td>\n",
              "      <td>43172.322018</td>\n",
              "      <td>-226.036831</td>\n",
              "    </tr>\n",
              "    <tr>\n",
              "      <th>2</th>\n",
              "      <td>FY2013</td>\n",
              "      <td>38289.855328</td>\n",
              "      <td>44309.964659</td>\n",
              "      <td>713.393267</td>\n",
              "    </tr>\n",
              "    <tr>\n",
              "      <th>3</th>\n",
              "      <td>FY2014</td>\n",
              "      <td>39756.791968</td>\n",
              "      <td>45638.742582</td>\n",
              "      <td>285.587338</td>\n",
              "    </tr>\n",
              "    <tr>\n",
              "      <th>4</th>\n",
              "      <td>FY2015</td>\n",
              "      <td>51708.083521</td>\n",
              "      <td>55785.481759</td>\n",
              "      <td>3602.270840</td>\n",
              "    </tr>\n",
              "    <tr>\n",
              "      <th>5</th>\n",
              "      <td>FY2016</td>\n",
              "      <td>53032.957121</td>\n",
              "      <td>56330.843127</td>\n",
              "      <td>2822.859184</td>\n",
              "    </tr>\n",
              "    <tr>\n",
              "      <th>6</th>\n",
              "      <td>FY2017</td>\n",
              "      <td>54899.880294</td>\n",
              "      <td>58405.675966</td>\n",
              "      <td>2623.656358</td>\n",
              "    </tr>\n",
              "    <tr>\n",
              "      <th>7</th>\n",
              "      <td>FY2018</td>\n",
              "      <td>56751.774026</td>\n",
              "      <td>60729.312142</td>\n",
              "      <td>3684.382028</td>\n",
              "    </tr>\n",
              "    <tr>\n",
              "      <th>8</th>\n",
              "      <td>FY2019</td>\n",
              "      <td>57845.282680</td>\n",
              "      <td>62300.946575</td>\n",
              "      <td>3355.208127</td>\n",
              "    </tr>\n",
              "    <tr>\n",
              "      <th>9</th>\n",
              "      <td>FY2020</td>\n",
              "      <td>52628.143628</td>\n",
              "      <td>53161.883139</td>\n",
              "      <td>533.739510</td>\n",
              "    </tr>\n",
              "  </tbody>\n",
              "</table>\n",
              "</div>"
            ],
            "text/plain": [
              "  fiscalyear  annualsalary      grosspay     overtime\n",
              "0     FY2011  46006.618203  42322.026667 -3684.591536\n",
              "1     FY2012  43398.358849  43172.322018  -226.036831\n",
              "2     FY2013  38289.855328  44309.964659   713.393267\n",
              "3     FY2014  39756.791968  45638.742582   285.587338\n",
              "4     FY2015  51708.083521  55785.481759  3602.270840\n",
              "5     FY2016  53032.957121  56330.843127  2822.859184\n",
              "6     FY2017  54899.880294  58405.675966  2623.656358\n",
              "7     FY2018  56751.774026  60729.312142  3684.382028\n",
              "8     FY2019  57845.282680  62300.946575  3355.208127\n",
              "9     FY2020  52628.143628  53161.883139   533.739510"
            ]
          },
          "metadata": {
            "tags": []
          },
          "execution_count": 134
        }
      ]
    },
    {
      "cell_type": "code",
      "metadata": {
        "id": "joHGQqiTu6Ph"
      },
      "source": [
        "df_salary_agg = df_salary_agg.rename(columns = {\"annualsalary\": \"average_annual_salary\",\n",
        "                                                     \"grosspay\": \"average_gross_pay\",\n",
        "                                                     \"overtime\": \"average_overtime\"})"
      ],
      "execution_count": 143,
      "outputs": []
    },
    {
      "cell_type": "code",
      "metadata": {
        "colab": {
          "base_uri": "https://localhost:8080/",
          "height": 359
        },
        "id": "40MqTh9zv26y",
        "outputId": "85e09a92-7877-4cf2-f0d3-f409d0821c28"
      },
      "source": [
        "df_salary_agg"
      ],
      "execution_count": 147,
      "outputs": [
        {
          "output_type": "execute_result",
          "data": {
            "text/html": [
              "<div>\n",
              "<style scoped>\n",
              "    .dataframe tbody tr th:only-of-type {\n",
              "        vertical-align: middle;\n",
              "    }\n",
              "\n",
              "    .dataframe tbody tr th {\n",
              "        vertical-align: top;\n",
              "    }\n",
              "\n",
              "    .dataframe thead th {\n",
              "        text-align: right;\n",
              "    }\n",
              "</style>\n",
              "<table border=\"1\" class=\"dataframe\">\n",
              "  <thead>\n",
              "    <tr style=\"text-align: right;\">\n",
              "      <th></th>\n",
              "      <th>fiscal_year</th>\n",
              "      <th>average_annual_salary</th>\n",
              "      <th>average_gross_pay</th>\n",
              "      <th>average_overtime</th>\n",
              "    </tr>\n",
              "  </thead>\n",
              "  <tbody>\n",
              "    <tr>\n",
              "      <th>0</th>\n",
              "      <td>FY2011</td>\n",
              "      <td>46006.618203</td>\n",
              "      <td>42322.026667</td>\n",
              "      <td>-3684.591536</td>\n",
              "    </tr>\n",
              "    <tr>\n",
              "      <th>1</th>\n",
              "      <td>FY2012</td>\n",
              "      <td>43398.358849</td>\n",
              "      <td>43172.322018</td>\n",
              "      <td>-226.036831</td>\n",
              "    </tr>\n",
              "    <tr>\n",
              "      <th>2</th>\n",
              "      <td>FY2013</td>\n",
              "      <td>38289.855328</td>\n",
              "      <td>44309.964659</td>\n",
              "      <td>713.393267</td>\n",
              "    </tr>\n",
              "    <tr>\n",
              "      <th>3</th>\n",
              "      <td>FY2014</td>\n",
              "      <td>39756.791968</td>\n",
              "      <td>45638.742582</td>\n",
              "      <td>285.587338</td>\n",
              "    </tr>\n",
              "    <tr>\n",
              "      <th>4</th>\n",
              "      <td>FY2015</td>\n",
              "      <td>51708.083521</td>\n",
              "      <td>55785.481759</td>\n",
              "      <td>3602.270840</td>\n",
              "    </tr>\n",
              "    <tr>\n",
              "      <th>5</th>\n",
              "      <td>FY2016</td>\n",
              "      <td>53032.957121</td>\n",
              "      <td>56330.843127</td>\n",
              "      <td>2822.859184</td>\n",
              "    </tr>\n",
              "    <tr>\n",
              "      <th>6</th>\n",
              "      <td>FY2017</td>\n",
              "      <td>54899.880294</td>\n",
              "      <td>58405.675966</td>\n",
              "      <td>2623.656358</td>\n",
              "    </tr>\n",
              "    <tr>\n",
              "      <th>7</th>\n",
              "      <td>FY2018</td>\n",
              "      <td>56751.774026</td>\n",
              "      <td>60729.312142</td>\n",
              "      <td>3684.382028</td>\n",
              "    </tr>\n",
              "    <tr>\n",
              "      <th>8</th>\n",
              "      <td>FY2019</td>\n",
              "      <td>57845.282680</td>\n",
              "      <td>62300.946575</td>\n",
              "      <td>3355.208127</td>\n",
              "    </tr>\n",
              "    <tr>\n",
              "      <th>9</th>\n",
              "      <td>FY2020</td>\n",
              "      <td>52628.143628</td>\n",
              "      <td>53161.883139</td>\n",
              "      <td>533.739510</td>\n",
              "    </tr>\n",
              "  </tbody>\n",
              "</table>\n",
              "</div>"
            ],
            "text/plain": [
              "  fiscal_year  average_annual_salary  average_gross_pay  average_overtime\n",
              "0      FY2011           46006.618203       42322.026667      -3684.591536\n",
              "1      FY2012           43398.358849       43172.322018       -226.036831\n",
              "2      FY2013           38289.855328       44309.964659        713.393267\n",
              "3      FY2014           39756.791968       45638.742582        285.587338\n",
              "4      FY2015           51708.083521       55785.481759       3602.270840\n",
              "5      FY2016           53032.957121       56330.843127       2822.859184\n",
              "6      FY2017           54899.880294       58405.675966       2623.656358\n",
              "7      FY2018           56751.774026       60729.312142       3684.382028\n",
              "8      FY2019           57845.282680       62300.946575       3355.208127\n",
              "9      FY2020           52628.143628       53161.883139        533.739510"
            ]
          },
          "metadata": {
            "tags": []
          },
          "execution_count": 147
        }
      ]
    },
    {
      "cell_type": "code",
      "metadata": {
        "id": "-j7Fa1Xsv6II"
      },
      "source": [
        "df_salary_agg.columns = [\"fiscal_year\", \"average_annual_salary\", \"average_gross_pay\", \"average_overtime\"]"
      ],
      "execution_count": 146,
      "outputs": []
    },
    {
      "cell_type": "markdown",
      "metadata": {
        "id": "05xWzGbqvIAj"
      },
      "source": [
        "# Data Visualizations with Matplotlib"
      ]
    },
    {
      "cell_type": "code",
      "metadata": {
        "colab": {
          "base_uri": "https://localhost:8080/",
          "height": 297
        },
        "id": "XqtlE55evJ3h",
        "outputId": "3a639356-6af1-47fb-b43c-2e99f7d0493f"
      },
      "source": [
        "# plot annual salary averages in a line graph\n",
        "df_salary_agg.plot(x = \"fiscal_year\", y = \"average_annual_salary\", kind = \"line\")"
      ],
      "execution_count": 148,
      "outputs": [
        {
          "output_type": "execute_result",
          "data": {
            "text/plain": [
              "<matplotlib.axes._subplots.AxesSubplot at 0x7fbf7e0fa250>"
            ]
          },
          "metadata": {
            "tags": []
          },
          "execution_count": 148
        },
        {
          "output_type": "display_data",
          "data": {
            "image/png": "[encoded data removed]",
            "text/plain": [
              "<Figure size 432x288 with 1 Axes>"
            ]
          },
          "metadata": {
            "tags": [],
            "needs_background": "light"
          }
        }
      ]
    },
    {
      "cell_type": "code",
      "metadata": {
        "colab": {
          "base_uri": "https://localhost:8080/",
          "height": 312
        },
        "id": "7yM40n14xBL0",
        "outputId": "56ed2c0c-adee-41b2-d602-5af371eeaf99"
      },
      "source": [
        "#first define that we are using the same axis for both graphs\n",
        "fy_agg_fig = plt.figure()\n",
        "\n",
        "ax = plt.gca(title = \"Baltimore City Salary Data for FY 2011-FY 2020\")\n",
        "\n",
        "# plot the values in lines\n",
        "df_salary_agg.plot(x = \"fiscal_year\", y = \"average_annual_salary\", kind = \"line\", ax = ax)\n",
        "df_salary_agg.plot(x = \"fiscal_year\", y = \"average_gross_pay\", kind = \"line\", ax = ax)\n",
        "\n",
        "#define x and y axes titles\n",
        "plt.xlabel(\"Fiscal Year\")\n",
        "plt.ylabel(\"US Dollars\")"
      ],
      "execution_count": 154,
      "outputs": [
        {
          "output_type": "execute_result",
          "data": {
            "text/plain": [
              "Text(0, 0.5, 'US Dollars')"
            ]
          },
          "metadata": {
            "tags": []
          },
          "execution_count": 154
        },
        {
          "output_type": "display_data",
          "data": {
            "image/png": "[encoded data removed]",
            "text/plain": [
              "<Figure size 432x288 with 1 Axes>"
            ]
          },
          "metadata": {
            "tags": [],
            "needs_background": "light"
          }
        }
      ]
    },
    {
      "cell_type": "code",
      "metadata": {
        "id": "vu6m2D-Gxyty"
      },
      "source": [
        "# save our graph\n",
        "fy_agg_fig.savefig(\"fy_trend_bmore.png\")"
      ],
      "execution_count": 155,
      "outputs": []
    },
    {
      "cell_type": "code",
      "metadata": {
        "colab": {
          "base_uri": "https://localhost:8080/",
          "height": 17
        },
        "id": "S7DVyLivyOvz",
        "outputId": "0b42dbc2-1c74-42b2-93f7-f5ed86a5ff9a"
      },
      "source": [
        "#downloading the files from google colab\n",
        "files.download(\"fy_trend_bmore.png\")"
      ],
      "execution_count": 156,
      "outputs": [
        {
          "output_type": "display_data",
          "data": {
            "application/javascript": [
              "\n",
              "    async function download(id, filename, size) {\n",
              "      if (!google.colab.kernel.accessAllowed) {\n",
              "        return;\n",
              "      }\n",
              "      const div = document.createElement('div');\n",
              "      const label = document.createElement('label');\n",
              "      label.textContent = `Downloading \"${filename}\": `;\n",
              "      div.appendChild(label);\n",
              "      const progress = document.createElement('progress');\n",
              "      progress.max = size;\n",
              "      div.appendChild(progress);\n",
              "      document.body.appendChild(div);\n",
              "\n",
              "      const buffers = [];\n",
              "      let downloaded = 0;\n",
              "\n",
              "      const channel = await google.colab.kernel.comms.open(id);\n",
              "      // Send a message to notify the kernel that we're ready.\n",
              "      channel.send({})\n",
              "\n",
              "      for await (const message of channel.messages) {\n",
              "        // Send a message to notify the kernel that we're ready.\n",
              "        channel.send({})\n",
              "        if (message.buffers) {\n",
              "          for (const buffer of message.buffers) {\n",
              "            buffers.push(buffer);\n",
              "            downloaded += buffer.byteLength;\n",
              "            progress.value = downloaded;\n",
              "          }\n",
              "        }\n",
              "      }\n",
              "      const blob = new Blob(buffers, {type: 'application/binary'});\n",
              "      const a = document.createElement('a');\n",
              "      a.href = window.URL.createObjectURL(blob);\n",
              "      a.download = filename;\n",
              "      div.appendChild(a);\n",
              "      a.click();\n",
              "      div.remove();\n",
              "    }\n",
              "  "
            ],
            "text/plain": [
              "<IPython.core.display.Javascript object>"
            ]
          },
          "metadata": {
            "tags": []
          }
        },
        {
          "output_type": "display_data",
          "data": {
            "application/javascript": [
              "download(\"download_b1f3e1b3-a441-4693-ab83-4710a159597b\", \"fy_trend_bmore.png\", 24871)"
            ],
            "text/plain": [
              "<IPython.core.display.Javascript object>"
            ]
          },
          "metadata": {
            "tags": []
          }
        }
      ]
    },
    {
      "cell_type": "markdown",
      "metadata": {
        "id": "LdXgyR8Gyjja"
      },
      "source": [
        "### make a fast graph with a df"
      ]
    },
    {
      "cell_type": "code",
      "metadata": {
        "colab": {
          "base_uri": "https://localhost:8080/",
          "height": 282
        },
        "id": "TXQtoqqGynQR",
        "outputId": "1587cb37-f1ee-4d8c-89b0-0b85abca8934"
      },
      "source": [
        "df_salary_agg.plot()"
      ],
      "execution_count": 158,
      "outputs": [
        {
          "output_type": "execute_result",
          "data": {
            "text/plain": [
              "<matplotlib.axes._subplots.AxesSubplot at 0x7fbf78db6610>"
            ]
          },
          "metadata": {
            "tags": []
          },
          "execution_count": 158
        },
        {
          "output_type": "display_data",
          "data": {
            "image/png": "[encoded data removed]",
            "text/plain": [
              "<Figure size 432x288 with 1 Axes>"
            ]
          },
          "metadata": {
            "tags": [],
            "needs_background": "light"
          }
        }
      ]
    },
    {
      "cell_type": "markdown",
      "metadata": {
        "id": "5YNlFn57vKgU"
      },
      "source": [
        "# Data Visualizations with Plotly Express"
      ]
    },
    {
      "cell_type": "code",
      "metadata": {
        "id": "tk9znNYHvNJc"
      },
      "source": [
        "# melt dataframe to work easier with plotly express\n",
        "df_agg_melt = pd.melt(df_salary_agg, id_vars = [\"fiscal_year\"])"
      ],
      "execution_count": 159,
      "outputs": []
    },
    {
      "cell_type": "code",
      "metadata": {
        "colab": {
          "base_uri": "https://localhost:8080/",
          "height": 204
        },
        "id": "c78YNDca1GFQ",
        "outputId": "bf806c21-c9fa-45e1-e881-475928f127b0"
      },
      "source": [
        "df_agg_melt.head()"
      ],
      "execution_count": 161,
      "outputs": [
        {
          "output_type": "execute_result",
          "data": {
            "text/html": [
              "<div>\n",
              "<style scoped>\n",
              "    .dataframe tbody tr th:only-of-type {\n",
              "        vertical-align: middle;\n",
              "    }\n",
              "\n",
              "    .dataframe tbody tr th {\n",
              "        vertical-align: top;\n",
              "    }\n",
              "\n",
              "    .dataframe thead th {\n",
              "        text-align: right;\n",
              "    }\n",
              "</style>\n",
              "<table border=\"1\" class=\"dataframe\">\n",
              "  <thead>\n",
              "    <tr style=\"text-align: right;\">\n",
              "      <th></th>\n",
              "      <th>fiscal_year</th>\n",
              "      <th>variable</th>\n",
              "      <th>value</th>\n",
              "    </tr>\n",
              "  </thead>\n",
              "  <tbody>\n",
              "    <tr>\n",
              "      <th>0</th>\n",
              "      <td>FY2011</td>\n",
              "      <td>average_annual_salary</td>\n",
              "      <td>46006.618203</td>\n",
              "    </tr>\n",
              "    <tr>\n",
              "      <th>1</th>\n",
              "      <td>FY2012</td>\n",
              "      <td>average_annual_salary</td>\n",
              "      <td>43398.358849</td>\n",
              "    </tr>\n",
              "    <tr>\n",
              "      <th>2</th>\n",
              "      <td>FY2013</td>\n",
              "      <td>average_annual_salary</td>\n",
              "      <td>38289.855328</td>\n",
              "    </tr>\n",
              "    <tr>\n",
              "      <th>3</th>\n",
              "      <td>FY2014</td>\n",
              "      <td>average_annual_salary</td>\n",
              "      <td>39756.791968</td>\n",
              "    </tr>\n",
              "    <tr>\n",
              "      <th>4</th>\n",
              "      <td>FY2015</td>\n",
              "      <td>average_annual_salary</td>\n",
              "      <td>51708.083521</td>\n",
              "    </tr>\n",
              "  </tbody>\n",
              "</table>\n",
              "</div>"
            ],
            "text/plain": [
              "  fiscal_year               variable         value\n",
              "0      FY2011  average_annual_salary  46006.618203\n",
              "1      FY2012  average_annual_salary  43398.358849\n",
              "2      FY2013  average_annual_salary  38289.855328\n",
              "3      FY2014  average_annual_salary  39756.791968\n",
              "4      FY2015  average_annual_salary  51708.083521"
            ]
          },
          "metadata": {
            "tags": []
          },
          "execution_count": 161
        }
      ]
    },
    {
      "cell_type": "code",
      "metadata": {
        "id": "oJvXxNmR1Hpb"
      },
      "source": [
        "# make line graph in plotly express\n",
        "fiscal_trend_line = px.line(df_agg_melt, x = \"fiscal_year\", y = \"value\", color = \"variable\",\n",
        "                            title = \"Baltimore City Salary Data for FY 2011-FY 2020\",\n",
        "                            labels = {\"fiscal_year\": \"Fiscal Year\", \"value\": \"US Dollar Amount\", \"variable\": \"Type of Pay\", \"average_annual_salary\": \"Average Annual Salary\", \"average_gross_pay\": \"Average Gross Pay\", \"average_overtime\": \"Average Overtime\"})"
      ],
      "execution_count": 170,
      "outputs": []
    },
    {
      "cell_type": "code",
      "metadata": {
        "colab": {
          "base_uri": "https://localhost:8080/",
          "height": 542
        },
        "id": "obu7M69N16FL",
        "outputId": "6c28bf24-c675-48e4-a4a2-70774b64a913"
      },
      "source": [
        "fiscal_trend_line"
      ],
      "execution_count": 171,
      "outputs": [
        {
          "output_type": "display_data",
          "data": {
            "text/html": [
              "<html>\n",
              "<head><meta charset=\"utf-8\" /></head>\n",
              "<body>\n",
              "    <div>\n",
              "            <script src=\"https://cdnjs.cloudflare.com/ajax/libs/mathjax/2.7.5/MathJax.js?config=TeX-AMS-MML_SVG\"></script><script type=\"text/javascript\">if (window.MathJax) {MathJax.Hub.Config({SVG: {font: \"STIX-Web\"}});}</script>\n",
              "                <script type=\"text/javascript\">window.PlotlyConfig = {MathJaxConfig: 'local'};</script>\n",
              "        <script src=\"https://cdn.plot.ly/plotly-latest.min.js\"></script>    \n",
              "            <div id=\"03df2d07-41e3-4381-a0b9-a8a10e6aae89\" class=\"plotly-graph-div\" style=\"height:525px; width:100%;\"></div>\n",
              "            <script type=\"text/javascript\">\n",
              "                \n",
              "                    window.PLOTLYENV=window.PLOTLYENV || {};\n",
              "                    \n",
              "                if (document.getElementById(\"03df2d07-41e3-4381-a0b9-a8a10e6aae89\")) {\n",
              "                    Plotly.newPlot(\n",
              "                        '03df2d07-41e3-4381-a0b9-a8a10e6aae89',\n",
              "                        [{\"hoverlabel\": {\"namelength\": 0}, \"hovertemplate\": \"Type of Pay=average_annual_salary<br>Fiscal Year=%{x}<br>US Dollar Amount=%{y}\", \"legendgroup\": \"Type of Pay=average_annual_salary\", \"line\": {\"color\": \"#636efa\", \"dash\": \"solid\"}, \"mode\": \"lines\", \"name\": \"Type of Pay=average_annual_salary\", \"showlegend\": true, \"type\": \"scatter\", \"x\": [\"FY2011\", \"FY2012\", \"FY2013\", \"FY2014\", \"FY2015\", \"FY2016\", \"FY2017\", \"FY2018\", \"FY2019\", \"FY2020\"], \"xaxis\": \"x\", \"y\": [46006.61820257367, 43398.35884852638, 38289.855328421385, 39756.791967757235, 51708.08352072484, 53032.95712114633, 54899.88029370318, 56751.774026163854, 57845.28268047208, 52628.1436282312], \"yaxis\": \"y\"}, {\"hoverlabel\": {\"namelength\": 0}, \"hovertemplate\": \"Type of Pay=average_gross_pay<br>Fiscal Year=%{x}<br>US Dollar Amount=%{y}\", \"legendgroup\": \"Type of Pay=average_gross_pay\", \"line\": {\"color\": \"#EF553B\", \"dash\": \"solid\"}, \"mode\": \"lines\", \"name\": \"Type of Pay=average_gross_pay\", \"showlegend\": true, \"type\": \"scatter\", \"x\": [\"FY2011\", \"FY2012\", \"FY2013\", \"FY2014\", \"FY2015\", \"FY2016\", \"FY2017\", \"FY2018\", \"FY2019\", \"FY2020\"], \"xaxis\": \"x\", \"y\": [42322.02666666648, 43172.322017571045, 44309.96465887664, 45638.74258218052, 55785.48175880136, 56330.843127122505, 58405.67596594019, 60729.312141695125, 62300.94657546714, 53161.883138542], \"yaxis\": \"y\"}, {\"hoverlabel\": {\"namelength\": 0}, \"hovertemplate\": \"Type of Pay=average_overtime<br>Fiscal Year=%{x}<br>US Dollar Amount=%{y}\", \"legendgroup\": \"Type of Pay=average_overtime\", \"line\": {\"color\": \"#00cc96\", \"dash\": \"solid\"}, \"mode\": \"lines\", \"name\": \"Type of Pay=average_overtime\", \"showlegend\": true, \"type\": \"scatter\", \"x\": [\"FY2011\", \"FY2012\", \"FY2013\", \"FY2014\", \"FY2015\", \"FY2016\", \"FY2017\", \"FY2018\", \"FY2019\", \"FY2020\"], \"xaxis\": \"x\", \"y\": [-3684.5915359070113, -226.03683095520108, 713.393266742054, 285.58733786013494, 3602.270840122202, 2822.8591835227976, 2623.6563580970214, 3684.3820278065264, 3355.2081273749804, 533.7395103107746], \"yaxis\": \"y\"}],\n",
              "                        {\"legend\": {\"tracegroupgap\": 0}, \"template\": {\"data\": {\"bar\": [{\"error_x\": {\"color\": \"#2a3f5f\"}, \"error_y\": {\"color\": \"#2a3f5f\"}, \"marker\": {\"line\": {\"color\": \"#E5ECF6\", \"width\": 0.5}}, \"type\": \"bar\"}], \"barpolar\": [{\"marker\": {\"line\": {\"color\": \"#E5ECF6\", \"width\": 0.5}}, \"type\": \"barpolar\"}], \"carpet\": [{\"aaxis\": {\"endlinecolor\": \"#2a3f5f\", \"gridcolor\": \"white\", \"linecolor\": \"white\", \"minorgridcolor\": \"white\", \"startlinecolor\": \"#2a3f5f\"}, \"baxis\": {\"endlinecolor\": \"#2a3f5f\", \"gridcolor\": \"white\", \"linecolor\": \"white\", \"minorgridcolor\": \"white\", \"startlinecolor\": \"#2a3f5f\"}, \"type\": \"carpet\"}], \"choropleth\": [{\"colorbar\": {\"outlinewidth\": 0, \"ticks\": \"\"}, \"type\": \"choropleth\"}], \"contour\": [{\"colorbar\": {\"outlinewidth\": 0, \"ticks\": \"\"}, \"colorscale\": [[0.0, \"#0d0887\"], [0.1111111111111111, \"#46039f\"], [0.2222222222222222, \"#7201a8\"], [0.3333333333333333, \"#9c179e\"], [0.4444444444444444, \"#bd3786\"], [0.5555555555555556, \"#d8576b\"], [0.6666666666666666, \"#ed7953\"], [0.7777777777777778, \"#fb9f3a\"], [0.8888888888888888, \"#fdca26\"], [1.0, \"#f0f921\"]], \"type\": \"contour\"}], \"contourcarpet\": [{\"colorbar\": {\"outlinewidth\": 0, \"ticks\": \"\"}, \"type\": \"contourcarpet\"}], \"heatmap\": [{\"colorbar\": {\"outlinewidth\": 0, \"ticks\": \"\"}, \"colorscale\": [[0.0, \"#0d0887\"], [0.1111111111111111, \"#46039f\"], [0.2222222222222222, \"#7201a8\"], [0.3333333333333333, \"#9c179e\"], [0.4444444444444444, \"#bd3786\"], [0.5555555555555556, \"#d8576b\"], [0.6666666666666666, \"#ed7953\"], [0.7777777777777778, \"#fb9f3a\"], [0.8888888888888888, \"#fdca26\"], [1.0, \"#f0f921\"]], \"type\": \"heatmap\"}], \"heatmapgl\": [{\"colorbar\": {\"outlinewidth\": 0, \"ticks\": \"\"}, \"colorscale\": [[0.0, \"#0d0887\"], [0.1111111111111111, \"#46039f\"], [0.2222222222222222, \"#7201a8\"], [0.3333333333333333, \"#9c179e\"], [0.4444444444444444, \"#bd3786\"], [0.5555555555555556, \"#d8576b\"], [0.6666666666666666, \"#ed7953\"], [0.7777777777777778, \"#fb9f3a\"], [0.8888888888888888, \"#fdca26\"], [1.0, \"#f0f921\"]], \"type\": \"heatmapgl\"}], \"histogram\": [{\"marker\": {\"colorbar\": {\"outlinewidth\": 0, \"ticks\": \"\"}}, \"type\": \"histogram\"}], \"histogram2d\": [{\"colorbar\": {\"outlinewidth\": 0, \"ticks\": \"\"}, \"colorscale\": [[0.0, \"#0d0887\"], [0.1111111111111111, \"#46039f\"], [0.2222222222222222, \"#7201a8\"], [0.3333333333333333, \"#9c179e\"], [0.4444444444444444, \"#bd3786\"], [0.5555555555555556, \"#d8576b\"], [0.6666666666666666, \"#ed7953\"], [0.7777777777777778, \"#fb9f3a\"], [0.8888888888888888, \"#fdca26\"], [1.0, \"#f0f921\"]], \"type\": \"histogram2d\"}], \"histogram2dcontour\": [{\"colorbar\": {\"outlinewidth\": 0, \"ticks\": \"\"}, \"colorscale\": [[0.0, \"#0d0887\"], [0.1111111111111111, \"#46039f\"], [0.2222222222222222, \"#7201a8\"], [0.3333333333333333, \"#9c179e\"], [0.4444444444444444, \"#bd3786\"], [0.5555555555555556, \"#d8576b\"], [0.6666666666666666, \"#ed7953\"], [0.7777777777777778, \"#fb9f3a\"], [0.8888888888888888, \"#fdca26\"], [1.0, \"#f0f921\"]], \"type\": \"histogram2dcontour\"}], \"mesh3d\": [{\"colorbar\": {\"outlinewidth\": 0, \"ticks\": \"\"}, \"type\": \"mesh3d\"}], \"parcoords\": [{\"line\": {\"colorbar\": {\"outlinewidth\": 0, \"ticks\": \"\"}}, \"type\": \"parcoords\"}], \"pie\": [{\"automargin\": true, \"type\": \"pie\"}], \"scatter\": [{\"marker\": {\"colorbar\": {\"outlinewidth\": 0, \"ticks\": \"\"}}, \"type\": \"scatter\"}], \"scatter3d\": [{\"line\": {\"colorbar\": {\"outlinewidth\": 0, \"ticks\": \"\"}}, \"marker\": {\"colorbar\": {\"outlinewidth\": 0, \"ticks\": \"\"}}, \"type\": \"scatter3d\"}], \"scattercarpet\": [{\"marker\": {\"colorbar\": {\"outlinewidth\": 0, \"ticks\": \"\"}}, \"type\": \"scattercarpet\"}], \"scattergeo\": [{\"marker\": {\"colorbar\": {\"outlinewidth\": 0, \"ticks\": \"\"}}, \"type\": \"scattergeo\"}], \"scattergl\": [{\"marker\": {\"colorbar\": {\"outlinewidth\": 0, \"ticks\": \"\"}}, \"type\": \"scattergl\"}], \"scattermapbox\": [{\"marker\": {\"colorbar\": {\"outlinewidth\": 0, \"ticks\": \"\"}}, \"type\": \"scattermapbox\"}], \"scatterpolar\": [{\"marker\": {\"colorbar\": {\"outlinewidth\": 0, \"ticks\": \"\"}}, \"type\": \"scatterpolar\"}], \"scatterpolargl\": [{\"marker\": {\"colorbar\": {\"outlinewidth\": 0, \"ticks\": \"\"}}, \"type\": \"scatterpolargl\"}], \"scatterternary\": [{\"marker\": {\"colorbar\": {\"outlinewidth\": 0, \"ticks\": \"\"}}, \"type\": \"scatterternary\"}], \"surface\": [{\"colorbar\": {\"outlinewidth\": 0, \"ticks\": \"\"}, \"colorscale\": [[0.0, \"#0d0887\"], [0.1111111111111111, \"#46039f\"], [0.2222222222222222, \"#7201a8\"], [0.3333333333333333, \"#9c179e\"], [0.4444444444444444, \"#bd3786\"], [0.5555555555555556, \"#d8576b\"], [0.6666666666666666, \"#ed7953\"], [0.7777777777777778, \"#fb9f3a\"], [0.8888888888888888, \"#fdca26\"], [1.0, \"#f0f921\"]], \"type\": \"surface\"}], \"table\": [{\"cells\": {\"fill\": {\"color\": \"#EBF0F8\"}, \"line\": {\"color\": \"white\"}}, \"header\": {\"fill\": {\"color\": \"#C8D4E3\"}, \"line\": {\"color\": \"white\"}}, \"type\": \"table\"}]}, \"layout\": {\"annotationdefaults\": {\"arrowcolor\": \"#2a3f5f\", \"arrowhead\": 0, \"arrowwidth\": 1}, \"coloraxis\": {\"colorbar\": {\"outlinewidth\": 0, \"ticks\": \"\"}}, \"colorscale\": {\"diverging\": [[0, \"#8e0152\"], [0.1, \"#c51b7d\"], [0.2, \"#de77ae\"], [0.3, \"#f1b6da\"], [0.4, \"#fde0ef\"], [0.5, \"#f7f7f7\"], [0.6, \"#e6f5d0\"], [0.7, \"#b8e186\"], [0.8, \"#7fbc41\"], [0.9, \"#4d9221\"], [1, \"#276419\"]], \"sequential\": [[0.0, \"#0d0887\"], [0.1111111111111111, \"#46039f\"], [0.2222222222222222, \"#7201a8\"], [0.3333333333333333, \"#9c179e\"], [0.4444444444444444, \"#bd3786\"], [0.5555555555555556, \"#d8576b\"], [0.6666666666666666, \"#ed7953\"], [0.7777777777777778, \"#fb9f3a\"], [0.8888888888888888, \"#fdca26\"], [1.0, \"#f0f921\"]], \"sequentialminus\": [[0.0, \"#0d0887\"], [0.1111111111111111, \"#46039f\"], [0.2222222222222222, \"#7201a8\"], [0.3333333333333333, \"#9c179e\"], [0.4444444444444444, \"#bd3786\"], [0.5555555555555556, \"#d8576b\"], [0.6666666666666666, \"#ed7953\"], [0.7777777777777778, \"#fb9f3a\"], [0.8888888888888888, \"#fdca26\"], [1.0, \"#f0f921\"]]}, \"colorway\": [\"#636efa\", \"#EF553B\", \"#00cc96\", \"#ab63fa\", \"#FFA15A\", \"#19d3f3\", \"#FF6692\", \"#B6E880\", \"#FF97FF\", \"#FECB52\"], \"font\": {\"color\": \"#2a3f5f\"}, \"geo\": {\"bgcolor\": \"white\", \"lakecolor\": \"white\", \"landcolor\": \"#E5ECF6\", \"showlakes\": true, \"showland\": true, \"subunitcolor\": \"white\"}, \"hoverlabel\": {\"align\": \"left\"}, \"hovermode\": \"closest\", \"mapbox\": {\"style\": \"light\"}, \"paper_bgcolor\": \"white\", \"plot_bgcolor\": \"#E5ECF6\", \"polar\": {\"angularaxis\": {\"gridcolor\": \"white\", \"linecolor\": \"white\", \"ticks\": \"\"}, \"bgcolor\": \"#E5ECF6\", \"radialaxis\": {\"gridcolor\": \"white\", \"linecolor\": \"white\", \"ticks\": \"\"}}, \"scene\": {\"xaxis\": {\"backgroundcolor\": \"#E5ECF6\", \"gridcolor\": \"white\", \"gridwidth\": 2, \"linecolor\": \"white\", \"showbackground\": true, \"ticks\": \"\", \"zerolinecolor\": \"white\"}, \"yaxis\": {\"backgroundcolor\": \"#E5ECF6\", \"gridcolor\": \"white\", \"gridwidth\": 2, \"linecolor\": \"white\", \"showbackground\": true, \"ticks\": \"\", \"zerolinecolor\": \"white\"}, \"zaxis\": {\"backgroundcolor\": \"#E5ECF6\", \"gridcolor\": \"white\", \"gridwidth\": 2, \"linecolor\": \"white\", \"showbackground\": true, \"ticks\": \"\", \"zerolinecolor\": \"white\"}}, \"shapedefaults\": {\"line\": {\"color\": \"#2a3f5f\"}}, \"ternary\": {\"aaxis\": {\"gridcolor\": \"white\", \"linecolor\": \"white\", \"ticks\": \"\"}, \"baxis\": {\"gridcolor\": \"white\", \"linecolor\": \"white\", \"ticks\": \"\"}, \"bgcolor\": \"#E5ECF6\", \"caxis\": {\"gridcolor\": \"white\", \"linecolor\": \"white\", \"ticks\": \"\"}}, \"title\": {\"x\": 0.05}, \"xaxis\": {\"automargin\": true, \"gridcolor\": \"white\", \"linecolor\": \"white\", \"ticks\": \"\", \"title\": {\"standoff\": 15}, \"zerolinecolor\": \"white\", \"zerolinewidth\": 2}, \"yaxis\": {\"automargin\": true, \"gridcolor\": \"white\", \"linecolor\": \"white\", \"ticks\": \"\", \"title\": {\"standoff\": 15}, \"zerolinecolor\": \"white\", \"zerolinewidth\": 2}}}, \"title\": {\"text\": \"Baltimore City Salary Data for FY 2011-FY 2020\"}, \"xaxis\": {\"anchor\": \"y\", \"domain\": [0.0, 1.0], \"title\": {\"text\": \"Fiscal Year\"}}, \"yaxis\": {\"anchor\": \"x\", \"domain\": [0.0, 1.0], \"title\": {\"text\": \"US Dollar Amount\"}}},\n",
              "                        {\"responsive\": true}\n",
              "                    ).then(function(){\n",
              "                            \n",
              "var gd = document.getElementById('03df2d07-41e3-4381-a0b9-a8a10e6aae89');\n",
              "var x = new MutationObserver(function (mutations, observer) {{\n",
              "        var display = window.getComputedStyle(gd).display;\n",
              "        if (!display || display === 'none') {{\n",
              "            console.log([gd, 'removed!']);\n",
              "            Plotly.purge(gd);\n",
              "            observer.disconnect();\n",
              "        }}\n",
              "}});\n",
              "\n",
              "// Listen for the removal of the full notebook cells\n",
              "var notebookContainer = gd.closest('#notebook-container');\n",
              "if (notebookContainer) {{\n",
              "    x.observe(notebookContainer, {childList: true});\n",
              "}}\n",
              "\n",
              "// Listen for the clearing of the current output cell\n",
              "var outputEl = gd.closest('.output');\n",
              "if (outputEl) {{\n",
              "    x.observe(outputEl, {childList: true});\n",
              "}}\n",
              "\n",
              "                        })\n",
              "                };\n",
              "                \n",
              "            </script>\n",
              "        </div>\n",
              "</body>\n",
              "</html>"
            ]
          },
          "metadata": {
            "tags": []
          }
        }
      ]
    },
    {
      "cell_type": "code",
      "metadata": {
        "id": "D0sQq_Ds2QKr"
      },
      "source": [
        "# save this as an html file so that other people can play with the interactiveness\n",
        "fiscal_trend_line.write_html(\"plotly_line_bmoresalary.html\")"
      ],
      "execution_count": 172,
      "outputs": []
    },
    {
      "cell_type": "code",
      "metadata": {
        "colab": {
          "base_uri": "https://localhost:8080/",
          "height": 17
        },
        "id": "Tl0Rd1Az3v_a",
        "outputId": "aa347dcc-886b-4da9-e802-a4d11ecc1e5c"
      },
      "source": [
        "#download from google\n",
        "files.download(\"plotly_line_bmoresalary.html\")"
      ],
      "execution_count": 173,
      "outputs": [
        {
          "output_type": "display_data",
          "data": {
            "application/javascript": [
              "\n",
              "    async function download(id, filename, size) {\n",
              "      if (!google.colab.kernel.accessAllowed) {\n",
              "        return;\n",
              "      }\n",
              "      const div = document.createElement('div');\n",
              "      const label = document.createElement('label');\n",
              "      label.textContent = `Downloading \"${filename}\": `;\n",
              "      div.appendChild(label);\n",
              "      const progress = document.createElement('progress');\n",
              "      progress.max = size;\n",
              "      div.appendChild(progress);\n",
              "      document.body.appendChild(div);\n",
              "\n",
              "      const buffers = [];\n",
              "      let downloaded = 0;\n",
              "\n",
              "      const channel = await google.colab.kernel.comms.open(id);\n",
              "      // Send a message to notify the kernel that we're ready.\n",
              "      channel.send({})\n",
              "\n",
              "      for await (const message of channel.messages) {\n",
              "        // Send a message to notify the kernel that we're ready.\n",
              "        channel.send({})\n",
              "        if (message.buffers) {\n",
              "          for (const buffer of message.buffers) {\n",
              "            buffers.push(buffer);\n",
              "            downloaded += buffer.byteLength;\n",
              "            progress.value = downloaded;\n",
              "          }\n",
              "        }\n",
              "      }\n",
              "      const blob = new Blob(buffers, {type: 'application/binary'});\n",
              "      const a = document.createElement('a');\n",
              "      a.href = window.URL.createObjectURL(blob);\n",
              "      a.download = filename;\n",
              "      div.appendChild(a);\n",
              "      a.click();\n",
              "      div.remove();\n",
              "    }\n",
              "  "
            ],
            "text/plain": [
              "<IPython.core.display.Javascript object>"
            ]
          },
          "metadata": {
            "tags": []
          }
        },
        {
          "output_type": "display_data",
          "data": {
            "application/javascript": [
              "download(\"download_81c1ac8b-b267-43e7-9e83-4462ac563cbd\", \"plotly_line_bmoresalary.html\", 3296089)"
            ],
            "text/plain": [
              "<IPython.core.display.Javascript object>"
            ]
          },
          "metadata": {
            "tags": []
          }
        }
      ]
    },
    {
      "cell_type": "code",
      "metadata": {
        "id": "Jk2S7jZo3z-p"
      },
      "source": [
        ""
      ],
      "execution_count": null,
      "outputs": []
    }
  ]
}